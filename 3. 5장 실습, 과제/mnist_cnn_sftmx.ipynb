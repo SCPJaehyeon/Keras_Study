{
 "cells": [
  {
   "cell_type": "code",
   "execution_count": 1,
   "metadata": {},
   "outputs": [
    {
     "name": "stderr",
     "output_type": "stream",
     "text": [
      "Using TensorFlow backend.\n"
     ]
    },
    {
     "data": {
      "text/plain": [
       "'2.2.4'"
      ]
     },
     "execution_count": 1,
     "metadata": {},
     "output_type": "execute_result"
    }
   ],
   "source": [
    "import keras\n",
    "keras.__version__"
   ]
  },
  {
   "cell_type": "markdown",
   "metadata": {
    "collapsed": true
   },
   "source": [
    "## 5.1 - 합성곱 신경망 소개\n",
    "###### Python 3.5.5. keras 2.1.6에서 실행 확인하였습니다.\n",
    "책의 5장 1절의 코드 예제입니다. 아래 모델에에 대해서 기술하세요.\n",
    "\n"
   ]
  },
  {
   "cell_type": "markdown",
   "metadata": {},
   "source": [
    "--------------------\n",
    "###### MNIST 데이터셋 \n",
    "- MNIST 데이터셋: 손글씨 숫자 이미지 집합으로 많은 연구에서도 사용하고 공부목적으로도 사용하는 인공지능 계의 \"Hello world\"라 한다\n",
    "(박인현 멘토님 말씀)\n",
    "<br><br>\n",
    "- MNIST 데이터 특징\n",
    "    - 1) 사이즈는 28x28\n",
    "    - 2) Gray-level의 이미지\n",
    "    - 3) 필셀 range: [0,255]\n",
    "    - 4) 각 이미지에 숫자 값이 라벨링 되어있다.\n",
    "<br><br>\n",
    "- MNIST의 분류 문제\n",
    "    - 1) 각 범주(Category)를 클래스(class)라 부름\n",
    "    - 2) 데이터 포인트는 샘플(sample)이라 부름\n",
    "    - 3) 샘플의 클래스를 레이블(lable)이라 부름\n",
    "--------------------\n",
    "###### 컨브넷/합성곱 신경망(CNN)\n",
    "- 컨브넷 (CNN, 합성곱 신경망) : 입력층, 출력층 가운데 중간층에 합성곱층과 풀링층을 둔 신경망으로 다차원 배열을 통해 데이터를 처리\n",
    "<br><br>\n",
    "- 컨브넷 성질\n",
    "    - 1) 학습된 패턴은 평행 이동 불변성을 지님 > 이미지를 효율적으로 처리하게 해줌\n",
    "    - 2) 패턴의 공간적 계층 구조를 학습할 수 있음 > 복잡하고 추상적인 시각적 개념을 효과적으로 학습 가능\n",
    "<br><br>    \n",
    "- 컨브넷 모델 특징 : 이미지를 읽어오게 되면 해상도가 높거나 하는 경우가 있는데 해상도를 낮춰주거나 샘플링을 반복\n",
    "    - 1) 비선형 모델에서의 구현이 가능\n",
    "    - 2) 합성곱 계층은 형상을 유지할수 있으며 3차원 그대로 사용 가능\n",
    "    - 3) 사진, 음성인식과 같은 분야에 좋음\n",
    "    - 4) 높이, 넓이 차원은 깊어질수록 작아지는 경향 (직접만든 아래 사진 참고)\n",
    "    - 5) 채널의 수는 Conv2D 층에 전달된 첫 번째 매개변수에 의해 조절됩니다(32, 64개)\n",
    "<br><br>    \n",
    "- 컨브넷 형태\n",
    "    - (image_height, image_width, image_channels) 크기의 입력 텐서를 사용\n",
    "<br><br>    \n",
    "- 컨브넷의 종류\n",
    "    - 1) 특징을 추출하는 신경망\n",
    "    - 2) 분류를 하는 신경망\n",
    "<br><br>    \n",
    "- 컨브넷 프로세스\n",
    "     - 입력데이터 > 입력층 > 합성곱층 > 합성곱층 > 풀링층 > 전결합층 > 전결합층 > 출력층 > 출력데이터     \n",
    "     ![cnn](./cnn.jpg)\n",
    "--------------------\n",
    "###### relu\n",
    "- relu 함수 : 입력이 0을 초과하면 입력값 그대로 출력, 0이하면 0을 출력하는 함수\n",
    "    - h(x) = x  (x >0), 0 (x <=0)\n",
    "<br><br>    \n",
    "- MSE : 평균제곱오차\n",
    "    - MSE = E [ (X - X^)2]\n",
    "<br><br>    \n",
    "- MAE : 평균절대오차\n",
    "--------------------\n",
    "###### softmax\n",
    "- softmax 함수 : 3개 이상으로 분류된 요소들로부터 하나의 결과 값을 얻고자 할 때 사용\n",
    "<br><br>\n",
    "- softmax 특징\n",
    "    - 1) 출력으로 0,1사이의 값을 모두 정규화 해 총합은 항상 1이 됨\n",
    "    - 2) 지수 함수를 포함하고 있어, 값의 증가 속도로 인해 오버플로우 초래 가능성 존재(개선 가능)\n",
    "    - 3) 출력층 활성화 함수"
   ]
  },
  {
   "cell_type": "code",
   "execution_count": 1,
   "metadata": {},
   "outputs": [
    {
     "name": "stderr",
     "output_type": "stream",
     "text": [
      "Using TensorFlow backend.\n"
     ]
    },
    {
     "name": "stdout",
     "output_type": "stream",
     "text": [
      "WARNING:tensorflow:From C:\\ProgramData\\Anaconda3\\envs\\jaehyeon\\lib\\site-packages\\tensorflow\\python\\framework\\op_def_library.py:263: colocate_with (from tensorflow.python.framework.ops) is deprecated and will be removed in a future version.\n",
      "Instructions for updating:\n",
      "Colocations handled automatically by placer.\n",
      "_________________________________________________________________\n",
      "Layer (type)                 Output Shape              Param #   \n",
      "=================================================================\n",
      "conv2d_1 (Conv2D)            (None, 26, 26, 32)        320       \n",
      "_________________________________________________________________\n",
      "max_pooling2d_1 (MaxPooling2 (None, 13, 13, 32)        0         \n",
      "_________________________________________________________________\n",
      "conv2d_2 (Conv2D)            (None, 11, 11, 64)        18496     \n",
      "_________________________________________________________________\n",
      "max_pooling2d_2 (MaxPooling2 (None, 5, 5, 64)          0         \n",
      "_________________________________________________________________\n",
      "conv2d_3 (Conv2D)            (None, 3, 3, 64)          36928     \n",
      "_________________________________________________________________\n",
      "flatten_1 (Flatten)          (None, 576)               0         \n",
      "_________________________________________________________________\n",
      "dense_1 (Dense)              (None, 64)                36928     \n",
      "_________________________________________________________________\n",
      "dense_2 (Dense)              (None, 10)                650       \n",
      "=================================================================\n",
      "Total params: 93,322\n",
      "Trainable params: 93,322\n",
      "Non-trainable params: 0\n",
      "_________________________________________________________________\n"
     ]
    }
   ],
   "source": [
    "from keras import layers\n",
    "from keras import models\n",
    "\n",
    "model = models.Sequential()\n",
    "model.add(layers.Conv2D(32, (3, 3), activation='relu', input_shape=(28, 28, 1))) #컨브넷 28x28크기 MNIST\n",
    "model.add(layers.MaxPooling2D((2, 2))) #맥스풀링할때마다 크기가 크게 줄어든다.\n",
    "model.add(layers.Conv2D(64, (3, 3), activation='relu'))\n",
    "model.add(layers.MaxPooling2D((2, 2)))\n",
    "model.add(layers.Conv2D(64, (3, 3), activation='relu'))\n",
    "model.add(layers.Flatten())\n",
    "model.add(layers.Dense(64, activation='relu')) #relu 층\n",
    "model.add(layers.Dense(10, activation='softmax')) #softmax 층\n",
    "model.summary() #구조 출력"
   ]
  },
  {
   "cell_type": "code",
   "execution_count": 3,
   "metadata": {},
   "outputs": [],
   "source": [
    "from keras.datasets import mnist\n",
    "from keras.utils import to_categorical\n",
    "\n",
    "(train_images, train_labels), (test_images, test_labels) = mnist.load_data()\n",
    "\n",
    "train_images = train_images.reshape((60000, 28, 28, 1))\n",
    "train_images = train_images.astype('float32') / 255\n",
    "\n",
    "test_images = test_images.reshape((10000, 28, 28, 1))\n",
    "test_images = test_images.astype('float32') / 255\n",
    "\n",
    "train_labels = to_categorical(train_labels)\n",
    "test_labels = to_categorical(test_labels)"
   ]
  },
  {
   "cell_type": "code",
   "execution_count": 4,
   "metadata": {},
   "outputs": [
    {
     "name": "stdout",
     "output_type": "stream",
     "text": [
      "WARNING:tensorflow:From C:\\ProgramData\\Anaconda3\\envs\\jaehyeon\\lib\\site-packages\\tensorflow\\python\\ops\\math_ops.py:3066: to_int32 (from tensorflow.python.ops.math_ops) is deprecated and will be removed in a future version.\n",
      "Instructions for updating:\n",
      "Use tf.cast instead.\n",
      "Epoch 1/5\n",
      "60000/60000 [==============================] - 62s 1ms/step - loss: 0.1784 - acc: 0.9440\n",
      "Epoch 2/5\n",
      "60000/60000 [==============================] - 60s 992us/step - loss: 0.0486 - acc: 0.9850\n",
      "Epoch 3/5\n",
      "60000/60000 [==============================] - 59s 986us/step - loss: 0.0337 - acc: 0.9895\n",
      "Epoch 4/5\n",
      "60000/60000 [==============================] - 58s 974us/step - loss: 0.0252 - acc: 0.9920\n",
      "Epoch 5/5\n",
      "60000/60000 [==============================] - 58s 975us/step - loss: 0.0216 - acc: 0.99341s - l\n"
     ]
    },
    {
     "data": {
      "text/plain": [
       "<keras.callbacks.History at 0x14450da8128>"
      ]
     },
     "execution_count": 4,
     "metadata": {},
     "output_type": "execute_result"
    }
   ],
   "source": [
    "model.compile(optimizer='rmsprop',\n",
    "              loss='categorical_crossentropy',\n",
    "              metrics=['accuracy'])\n",
    "model.fit(train_images, train_labels, epochs=5, batch_size=64) #5에포치로 학습"
   ]
  },
  {
   "cell_type": "code",
   "execution_count": 5,
   "metadata": {},
   "outputs": [
    {
     "name": "stdout",
     "output_type": "stream",
     "text": [
      "10000/10000 [==============================] - 4s 406us/step\n"
     ]
    },
    {
     "data": {
      "text/plain": [
       "0.9884"
      ]
     },
     "execution_count": 5,
     "metadata": {},
     "output_type": "execute_result"
    }
   ],
   "source": [
    "test_loss, test_acc = model.evaluate(test_images, test_labels)\n",
    "test_acc #98%의 정확률을 얻었다!"
   ]
  },
  {
   "cell_type": "code",
   "execution_count": null,
   "metadata": {},
   "outputs": [],
   "source": []
  }
 ],
 "metadata": {
  "kernelspec": {
   "display_name": "Python 3",
   "language": "python",
   "name": "python3"
  },
  "language_info": {
   "codemirror_mode": {
    "name": "ipython",
    "version": 3
   },
   "file_extension": ".py",
   "mimetype": "text/x-python",
   "name": "python",
   "nbconvert_exporter": "python",
   "pygments_lexer": "ipython3",
   "version": "3.6.8"
  }
 },
 "nbformat": 4,
 "nbformat_minor": 2
}
