{
 "cells": [
  {
   "cell_type": "markdown",
   "metadata": {},
   "source": [
    "### CNN을 사용한 IMDB\n",
    "--------------------\n",
    "IMDB 데이터셋 : 케라스에 포함되어있는 데이터셋으로 인터넷 영화의 데이터베이스로부터 가져온 양극단의 리뷰 5만개로 이루어진 데이터셋\n",
    "\n",
    "IMDB 데이터 특징\n",
    "\n",
    "    1) 전처리되어 있어 각 리뷰가 숫자 시퀀스로 변환되어 있음\n",
    "    2) 각 숫자는 사전에 있는 고유한 단어를 나타냄\n",
    "    3) 훈련 데이터 2만 5천개와 테스트 데이터 2만 5천개로 나뉨\n",
    "    4) 각각 50%는 긍정, 50%는 부정으로 구성\n",
    "    \n",
    "--------------------\n",
    "CNN (합성곱 신경망) : 입력층, 출력층 가운데 중간층에 합성곱층과 풀링층을 둔 신경망으로 다차원 배열을 통해 데이터를 처리\n",
    "\n",
    "CNN 모델 특징 : 이미지를 읽어오게 되면 해상도가 높거나 하는 경우가 있는데 해상도를 낮춰주거나 샘플링을 반복\n",
    "\n",
    "    1) 비선형 모델에서의 구현이 가능\n",
    "    2) 합성곱 계층은 형상을 유지할수 있으며 3차원 그대로 사용 가능\n",
    "    3) 사진, 음성인식과 같은 분야에 좋음\n",
    "    \n",
    "CNN의 종류\n",
    "\n",
    "    1) 특징을 추출하는 신경망\n",
    "    2) 분류를 하는 신경망\n",
    "\n",
    "CNN 프로세스\n",
    "\n",
    "> 입력데이터 > 입력층 > 합성곱층 > 합성곱층 > 풀링층 > 전결합층 > 전결합층 > 출력층 > 출력데이터"
   ]
  },
  {
   "cell_type": "code",
   "execution_count": 26,
   "metadata": {},
   "outputs": [],
   "source": [
    "# IMDB과 CNN을 포함한 사용할 패키지들을 불러옴\n",
    "from keras.datasets import imdb\n",
    "from keras.preprocessing import sequence\n",
    "from keras.models import Sequential\n",
    "from keras.layers import Dense, Embedding\n",
    "from keras.layers import Flatten, Dropout\n",
    "from keras.layers import Conv1D, GlobalMaxPooling1D\n",
    "\n",
    "maxfeatures = 15000\n",
    "maxword = 150\n",
    "\n",
    "# 훈련, 시험셋을 불러옴\n",
    "(x_train, y_train), (x_test, y_test) = imdb.load_data(num_words=maxfeatures)"
   ]
  },
  {
   "cell_type": "code",
   "execution_count": 27,
   "metadata": {},
   "outputs": [],
   "source": [
    "#훈련셋과 시험셋을 구분하고 15000개씩 끊음\n",
    "x_val = x_train[15000:]\n",
    "y_val = y_train[15000:]\n",
    "x_train = x_train[:15000]\n",
    "y_train = y_train[:15000]"
   ]
  },
  {
   "cell_type": "code",
   "execution_count": 28,
   "metadata": {},
   "outputs": [],
   "source": [
    "# 데이터셋 전처리로 문장의 길이를 앞에서 150(maxword) 설정대로 맞춤\n",
    "x_train = sequence.pad_sequences(x_train, maxlen=maxword)\n",
    "x_val = sequence.pad_sequences(x_val, maxlen=maxword)\n",
    "x_test = sequence.pad_sequences(x_test, maxlen=maxword)"
   ]
  },
  {
   "cell_type": "code",
   "execution_count": 29,
   "metadata": {},
   "outputs": [
    {
     "name": "stdout",
     "output_type": "stream",
     "text": [
      "_________________________________________________________________\n",
      "Layer (type)                 Output Shape              Param #   \n",
      "=================================================================\n",
      "embedding_4 (Embedding)      (None, 150, 128)          1920000   \n",
      "_________________________________________________________________\n",
      "dropout_7 (Dropout)          (None, 150, 128)          0         \n",
      "_________________________________________________________________\n",
      "conv1d_4 (Conv1D)            (None, 148, 256)          98560     \n",
      "_________________________________________________________________\n",
      "global_max_pooling1d_4 (Glob (None, 256)               0         \n",
      "_________________________________________________________________\n",
      "dense_7 (Dense)              (None, 128)               32896     \n",
      "_________________________________________________________________\n",
      "dropout_8 (Dropout)          (None, 128)               0         \n",
      "_________________________________________________________________\n",
      "dense_8 (Dense)              (None, 1)                 129       \n",
      "=================================================================\n",
      "Total params: 2,051,585\n",
      "Trainable params: 2,051,585\n",
      "Non-trainable params: 0\n",
      "_________________________________________________________________\n"
     ]
    }
   ],
   "source": [
    "# CNN 모델을 구현\n",
    "model = Sequential()\n",
    "model.add(Embedding(max_features, 128, input_length=text_max_words))\n",
    "model.add(Dropout(0.2))\n",
    "model.add(Conv1D(256,\n",
    "                 3,\n",
    "                 padding='valid',\n",
    "                 activation='relu',\n",
    "                 strides=1)) #컨볼루션 모델을 사용했고\n",
    "model.add(GlobalMaxPooling1D()) # 컨볼루션 레이어가 문장을 찾아가며 특징벡터 중 가장 큰 벡터를 찾아줌\n",
    "model.add(Dense(128, activation='relu'))\n",
    "model.add(Dropout(0.2))\n",
    "model.add(Dense(1, activation='sigmoid'))\n",
    "model.summary() #summary출력"
   ]
  },
  {
   "cell_type": "code",
   "execution_count": 30,
   "metadata": {},
   "outputs": [
    {
     "name": "stdout",
     "output_type": "stream",
     "text": [
      "Train on 15000 samples, validate on 10000 samples\n",
      "Epoch 1/25\n",
      "15000/15000 [==============================] - 79s 5ms/step - loss: 0.5136 - acc: 0.7219 - val_loss: 0.3282 - val_acc: 0.8592\n",
      "Epoch 2/25\n",
      "15000/15000 [==============================] - 76s 5ms/step - loss: 0.2553 - acc: 0.8935 - val_loss: 0.2904 - val_acc: 0.8774\n",
      "Epoch 3/25\n",
      "15000/15000 [==============================] - 76s 5ms/step - loss: 0.1116 - acc: 0.9606 - val_loss: 0.3351 - val_acc: 0.8702\n",
      "Epoch 4/25\n",
      "15000/15000 [==============================] - 77s 5ms/step - loss: 0.0280 - acc: 0.9945 - val_loss: 0.3882 - val_acc: 0.8750\n",
      "Epoch 5/25\n",
      "15000/15000 [==============================] - 77s 5ms/step - loss: 0.0073 - acc: 0.9993 - val_loss: 0.4625 - val_acc: 0.8713\n",
      "Epoch 6/25\n",
      "15000/15000 [==============================] - 76s 5ms/step - loss: 0.0025 - acc: 0.9999 - val_loss: 0.4792 - val_acc: 0.8737\n",
      "Epoch 7/25\n",
      "15000/15000 [==============================] - 77s 5ms/step - loss: 0.0012 - acc: 1.0000 - val_loss: 0.5150 - val_acc: 0.8721\n",
      "Epoch 8/25\n",
      "15000/15000 [==============================] - 77s 5ms/step - loss: 6.6029e-04 - acc: 1.0000 - val_loss: 0.5471 - val_acc: 0.8719\n",
      "Epoch 9/25\n",
      "15000/15000 [==============================] - 76s 5ms/step - loss: 5.6547e-04 - acc: 0.9999 - val_loss: 0.5680 - val_acc: 0.8711\n",
      "Epoch 10/25\n",
      "15000/15000 [==============================] - 77s 5ms/step - loss: 3.5322e-04 - acc: 1.0000 - val_loss: 0.5831 - val_acc: 0.8716\n",
      "Epoch 11/25\n",
      "15000/15000 [==============================] - 78s 5ms/step - loss: 3.4344e-04 - acc: 0.9999 - val_loss: 0.5997 - val_acc: 0.8720\n",
      "Epoch 12/25\n",
      "15000/15000 [==============================] - 78s 5ms/step - loss: 1.9918e-04 - acc: 1.0000 - val_loss: 0.6173 - val_acc: 0.8721\n",
      "Epoch 13/25\n",
      "15000/15000 [==============================] - 78s 5ms/step - loss: 1.4145e-04 - acc: 1.0000 - val_loss: 0.6346 - val_acc: 0.8711\n",
      "Epoch 14/25\n",
      "15000/15000 [==============================] - 79s 5ms/step - loss: 1.1584e-04 - acc: 1.0000 - val_loss: 0.6479 - val_acc: 0.8716\n",
      "Epoch 15/25\n",
      "15000/15000 [==============================] - 84s 6ms/step - loss: 8.5107e-05 - acc: 1.0000 - val_loss: 0.6616 - val_acc: 0.8718\n",
      "Epoch 16/25\n",
      "15000/15000 [==============================] - 84s 6ms/step - loss: 8.3950e-05 - acc: 1.0000 - val_loss: 0.6764 - val_acc: 0.8716\n",
      "Epoch 17/25\n",
      "15000/15000 [==============================] - 83s 6ms/step - loss: 5.7111e-05 - acc: 1.0000 - val_loss: 0.6856 - val_acc: 0.8715\n",
      "Epoch 18/25\n",
      "15000/15000 [==============================] - 85s 6ms/step - loss: 5.6029e-05 - acc: 1.0000 - val_loss: 0.6995 - val_acc: 0.8715\n",
      "Epoch 19/25\n",
      "15000/15000 [==============================] - 83s 6ms/step - loss: 0.0289 - acc: 0.9901 - val_loss: 0.5292 - val_acc: 0.8584\n",
      "Epoch 20/25\n",
      "15000/15000 [==============================] - 84s 6ms/step - loss: 0.0370 - acc: 0.9864 - val_loss: 0.5771 - val_acc: 0.8596\n",
      "Epoch 21/25\n",
      "15000/15000 [==============================] - 85s 6ms/step - loss: 0.0083 - acc: 0.9977 - val_loss: 0.6230 - val_acc: 0.8648\n",
      "Epoch 22/25\n",
      "15000/15000 [==============================] - 81s 5ms/step - loss: 0.0016 - acc: 0.9997 - val_loss: 0.7163 - val_acc: 0.8653\n",
      "Epoch 23/25\n",
      "15000/15000 [==============================] - 85s 6ms/step - loss: 3.8300e-04 - acc: 1.0000 - val_loss: 0.7642 - val_acc: 0.8651\n",
      "Epoch 24/25\n",
      "15000/15000 [==============================] - 84s 6ms/step - loss: 2.0740e-04 - acc: 0.9999 - val_loss: 0.7822 - val_acc: 0.8654\n",
      "Epoch 25/25\n",
      "15000/15000 [==============================] - 84s 6ms/step - loss: 1.0772e-04 - acc: 1.0000 - val_loss: 0.8069 - val_acc: 0.8650\n"
     ]
    }
   ],
   "source": [
    "# 모델을 학습하기 위해 과정을 정하고\n",
    "model.compile(loss='binary_crossentropy', optimizer='adam', metrics=['accuracy'])\n",
    "\n",
    "# 64짜리 batch 사이즈와 25에포크로 모델 학습을 시작\n",
    "hist = model.fit(x_train, y_train, epochs=25, batch_size=64, validation_data=(x_val, y_val))"
   ]
  },
  {
   "cell_type": "code",
   "execution_count": 31,
   "metadata": {},
   "outputs": [
    {
     "data": {
      "image/png": "[encoded data removed]",
      "text/plain": [
       "<Figure size 432x288 with 2 Axes>"
      ]
     },
     "metadata": {
      "needs_background": "light"
     },
     "output_type": "display_data"
    }
   ],
   "source": [
    "%matplotlib inline\n",
    "import matplotlib.pyplot as plt #plt임포트\n",
    "\n",
    "fig, loss_ax = plt.subplots()\n",
    "\n",
    "acc_ax = loss_ax.twinx()\n",
    "\n",
    "loss_ax.plot(hist.history['loss'], 'y', label='train loss')\n",
    "loss_ax.plot(hist.history['val_loss'], 'r', label='val loss')\n",
    "loss_ax.set_ylim([-0.2, 1.2])\n",
    "\n",
    "acc_ax.plot(hist.history['acc'], 'b', label='train acc')\n",
    "acc_ax.plot(hist.history['val_acc'], 'g', label='val acc')\n",
    "acc_ax.set_ylim([-0.2, 1.2])\n",
    "\n",
    "loss_ax.set_xlabel('epoch')\n",
    "loss_ax.set_ylabel('loss')\n",
    "acc_ax.set_ylabel('accuray')\n",
    "\n",
    "loss_ax.legend(loc='upper left')\n",
    "acc_ax.legend(loc='lower left')\n",
    "plt.show()"
   ]
  },
  {
   "cell_type": "code",
   "execution_count": 32,
   "metadata": {},
   "outputs": [
    {
     "name": "stdout",
     "output_type": "stream",
     "text": [
      "25000/25000 [==============================] - 37s 1ms/step\n",
      "- 평가결과는!? -\n",
      "[0.8304133622550964, 0.85696]\n"
     ]
    }
   ],
   "source": [
    "# 모델 평가\n",
    "\n",
    "loss_and_metrics = model.evaluate(x_test, y_test, batch_size=64)\n",
    "print('- 평가결과는!? -')\n",
    "print(loss_and_metrics)"
   ]
  },
  {
   "cell_type": "code",
   "execution_count": null,
   "metadata": {},
   "outputs": [],
   "source": []
  }
 ],
 "metadata": {
  "kernelspec": {
   "display_name": "Python 3",
   "language": "python",
   "name": "python3"
  },
  "language_info": {
   "codemirror_mode": {
    "name": "ipython",
    "version": 3
   },
   "file_extension": ".py",
   "mimetype": "text/x-python",
   "name": "python",
   "nbconvert_exporter": "python",
   "pygments_lexer": "ipython3",
   "version": "3.6.8"
  }
 },
 "nbformat": 4,
 "nbformat_minor": 2
}
