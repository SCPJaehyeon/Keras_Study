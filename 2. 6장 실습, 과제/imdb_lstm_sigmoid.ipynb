{
 "cells": [
  {
   "cell_type": "markdown",
   "metadata": {},
   "source": [
    "### LSTM을 사용한 IMDB\n",
    "--------------------\n",
    "IMDB 데이터셋: 케라스에 포함되어있는 데이터셋으로 인터넷 영화의 데이터베이스로부터 가져온 양극단의 리뷰 5만개로 이루어진 데이터셋\n",
    "\n",
    "IMDB 데이터 특징\n",
    "\n",
    "    1) 전처리되어 있어 각 리뷰가 숫자 시퀀스로 변환되어 있음\n",
    "    2) 각 숫자는 사전에 있는 고유한 단어를 나타냄\n",
    "    3) 훈련 데이터 2만 5천개와 테스트 데이터 2만 5천개로 나뉨\n",
    "    4) 각각 50%는 긍정, 50%는 부정으로 구성\n",
    "\n",
    "--------------------\n",
    "LSTM (순환 신경망) : 이전 스텍의 출력값이 다시 입력으로 연결되는 신경망을 순환 신경망이라 하는데 RNN에서의 기울기 소실을 보안한 신경망\n",
    "\n",
    "LSTM 모델 특징 \n",
    "\n",
    "    1) 메모리가 있으며 메모리 입출력 컨트롤을 위한 게이트가 존재\n",
    "    2) 게이트 된 셀에서 재발 성 네트워크의 정상적인 흐름 외부의 정보가 포함\n",
    "    3) 시간과 계층을 통해 역 전파 될 수있는 오류를 보존하는 데 도움\n",
    "    4) 문자 번역, 음성인식(연속적, 반복적)에 좋음\n",
    "    5) 계산결과가 이전 계산 결과에 영향을 받음\n",
    "    \n",
    "LSTM 핵심!\n",
    "    \n",
    "    - Memory Sell\n",
    "    - Sell State\n",
    "    \n",
    "RNN과 LSTM\n",
    "\n",
    "- LSTM > RNN : LSTM이 상위 호환\n",
    "    - 이유 : LSTM이 RNN의 장기 의존성 문제, 역전파시 생기는 기울기 손실 문제를 해결한 모델"
   ]
  },
  {
   "cell_type": "code",
   "execution_count": 10,
   "metadata": {},
   "outputs": [],
   "source": [
    "# IMDB과 LSTM을 포함한 사용할 패키지를 가져옴\n",
    "from keras.datasets import imdb\n",
    "from keras.preprocessing import sequence\n",
    "from keras.models import Sequential\n",
    "from keras.layers import Dense, Embedding, LSTM\n",
    "from keras.layers import Flatten\n",
    "from keras.utils import np_utils\n",
    "\n",
    "import numpy\n",
    "import tensorflow as tf\n",
    "import matplotlib.pyplot as plt\n",
    "\n",
    "maxfeatures = 15000\n",
    "maxword = 150\n",
    "\n",
    "# 훈련, 시험셋을 불러옴\n",
    "(x_train, y_train), (x_test, y_test) = imdb.load_data(num_words=maxfeatures)"
   ]
  },
  {
   "cell_type": "code",
   "execution_count": 11,
   "metadata": {},
   "outputs": [],
   "source": [
    "#훈련셋과 시험셋을 구분하고 15000개씩 끊고\n",
    "x_val = x_train[15000:]\n",
    "y_val = y_train[15000:]\n",
    "x_train = x_train[:15000]\n",
    "y_train = y_train[:15000]"
   ]
  },
  {
   "cell_type": "code",
   "execution_count": 13,
   "metadata": {},
   "outputs": [],
   "source": [
    "# 데이터셋 전처리로 문장의 길이를 앞에서 150(maxword) 설정대로 맞춤\n",
    "x_train = sequence.pad_sequences(x_train, maxlen=maxword)\n",
    "x_val = sequence.pad_sequences(x_val, maxlen=maxword)\n",
    "x_test = sequence.pad_sequences(x_test, maxlen=maxword)"
   ]
  },
  {
   "cell_type": "code",
   "execution_count": 14,
   "metadata": {},
   "outputs": [
    {
     "name": "stdout",
     "output_type": "stream",
     "text": [
      "_________________________________________________________________\n",
      "Layer (type)                 Output Shape              Param #   \n",
      "=================================================================\n",
      "embedding_2 (Embedding)      (None, None, 128)         2560000   \n",
      "_________________________________________________________________\n",
      "lstm_2 (LSTM)                (None, 128)               131584    \n",
      "_________________________________________________________________\n",
      "dense_2 (Dense)              (None, 1)                 129       \n",
      "=================================================================\n",
      "Total params: 2,691,713\n",
      "Trainable params: 2,691,713\n",
      "Non-trainable params: 0\n",
      "_________________________________________________________________\n"
     ]
    }
   ],
   "source": [
    "# LSTM 모델을 구현\n",
    "model = Sequential()\n",
    "model.add(Embedding(max_features, 128))\n",
    "model.add(LSTM(128)) #LSTM 레이어에는 timesteps으로 입력됨\n",
    "model.add(Dense(1, activation='sigmoid'))\n",
    "model.summary() #summary출력"
   ]
  },
  {
   "cell_type": "code",
   "execution_count": 15,
   "metadata": {},
   "outputs": [
    {
     "name": "stdout",
     "output_type": "stream",
     "text": [
      "Train on 15000 samples, validate on 10000 samples\n",
      "Epoch 1/25\n",
      "15000/15000 [==============================] - 141s 9ms/step - loss: 0.5078 - acc: 0.7368 - val_loss: 0.3481 - val_acc: 0.8535\n",
      "Epoch 2/25\n",
      "15000/15000 [==============================] - 140s 9ms/step - loss: 0.2668 - acc: 0.8940 - val_loss: 0.3440 - val_acc: 0.8588\n",
      "Epoch 3/25\n",
      "15000/15000 [==============================] - 134s 9ms/step - loss: 0.1585 - acc: 0.9433 - val_loss: 0.3813 - val_acc: 0.8445\n",
      "Epoch 4/25\n",
      "15000/15000 [==============================] - 134s 9ms/step - loss: 0.0958 - acc: 0.9679 - val_loss: 0.4516 - val_acc: 0.8458\n",
      "Epoch 5/25\n",
      "15000/15000 [==============================] - 139s 9ms/step - loss: 0.0825 - acc: 0.9737 - val_loss: 0.5539 - val_acc: 0.8372\n",
      "Epoch 6/25\n",
      "15000/15000 [==============================] - 139s 9ms/step - loss: 0.0805 - acc: 0.9713 - val_loss: 0.5578 - val_acc: 0.8443\n",
      "Epoch 7/25\n",
      "15000/15000 [==============================] - 141s 9ms/step - loss: 0.0356 - acc: 0.9887 - val_loss: 0.6697 - val_acc: 0.8466\n",
      "Epoch 8/25\n",
      "15000/15000 [==============================] - 95s 6ms/step - loss: 0.0185 - acc: 0.9960 - val_loss: 0.6511 - val_acc: 0.8368\n",
      "Epoch 9/25\n",
      "15000/15000 [==============================] - 87s 6ms/step - loss: 0.0379 - acc: 0.9877 - val_loss: 0.7495 - val_acc: 0.8407\n",
      "Epoch 10/25\n",
      "15000/15000 [==============================] - 86s 6ms/step - loss: 0.0281 - acc: 0.9893 - val_loss: 0.7653 - val_acc: 0.8452\n",
      "Epoch 11/25\n",
      "15000/15000 [==============================] - 89s 6ms/step - loss: 0.0112 - acc: 0.9971 - val_loss: 0.8758 - val_acc: 0.8360\n",
      "Epoch 12/25\n",
      "15000/15000 [==============================] - 136s 9ms/step - loss: 0.0113 - acc: 0.9965 - val_loss: 0.9389 - val_acc: 0.8365\n",
      "Epoch 13/25\n",
      "15000/15000 [==============================] - 128s 9ms/step - loss: 0.0032 - acc: 0.9991 - val_loss: 1.0482 - val_acc: 0.8388\n",
      "Epoch 14/25\n",
      "15000/15000 [==============================] - 130s 9ms/step - loss: 0.0116 - acc: 0.9962 - val_loss: 0.7851 - val_acc: 0.8188\n",
      "Epoch 15/25\n",
      "15000/15000 [==============================] - 126s 8ms/step - loss: 0.0156 - acc: 0.9955 - val_loss: 0.8917 - val_acc: 0.8435\n",
      "Epoch 16/25\n",
      "15000/15000 [==============================] - 131s 9ms/step - loss: 0.0204 - acc: 0.9937 - val_loss: 0.8407 - val_acc: 0.8369\n",
      "Epoch 17/25\n",
      "15000/15000 [==============================] - 127s 8ms/step - loss: 0.0114 - acc: 0.9965 - val_loss: 0.8494 - val_acc: 0.8316\n",
      "Epoch 18/25\n",
      "15000/15000 [==============================] - 130s 9ms/step - loss: 0.0071 - acc: 0.9980 - val_loss: 0.8948 - val_acc: 0.8295\n",
      "Epoch 19/25\n",
      "15000/15000 [==============================] - 128s 9ms/step - loss: 0.0062 - acc: 0.9988 - val_loss: 1.0163 - val_acc: 0.8356\n",
      "Epoch 20/25\n",
      "15000/15000 [==============================] - 130s 9ms/step - loss: 0.0014 - acc: 0.9997 - val_loss: 1.0081 - val_acc: 0.8423\n",
      "Epoch 21/25\n",
      "15000/15000 [==============================] - 129s 9ms/step - loss: 2.4657e-04 - acc: 1.0000 - val_loss: 1.1360 - val_acc: 0.8437\n",
      "Epoch 22/25\n",
      "15000/15000 [==============================] - 128s 9ms/step - loss: 1.0857e-04 - acc: 1.0000 - val_loss: 1.1737 - val_acc: 0.8439\n",
      "Epoch 23/25\n",
      "15000/15000 [==============================] - 130s 9ms/step - loss: 7.5109e-05 - acc: 1.0000 - val_loss: 1.2258 - val_acc: 0.8447\n",
      "Epoch 24/25\n",
      "15000/15000 [==============================] - 127s 8ms/step - loss: 5.6636e-05 - acc: 1.0000 - val_loss: 1.2485 - val_acc: 0.8442\n",
      "Epoch 25/25\n",
      "15000/15000 [==============================] - 131s 9ms/step - loss: 4.3813e-05 - acc: 1.0000 - val_loss: 1.2793 - val_acc: 0.8445\n"
     ]
    }
   ],
   "source": [
    "# 모델을 학습하기 위해 과정을 정하고\n",
    "model.compile(loss='binary_crossentropy', optimizer='adam', metrics=['accuracy'])\n",
    "\n",
    "# 25에포크로 모델 학습을 시작\n",
    "hist = model.fit(x_train, y_train, epochs=25, batch_size=64, validation_data=(x_val, y_val))"
   ]
  },
  {
   "cell_type": "code",
   "execution_count": 16,
   "metadata": {},
   "outputs": [
    {
     "data": {
      "image/png": "[encoded data removed]",
      "text/plain": [
       "<Figure size 432x288 with 2 Axes>"
      ]
     },
     "metadata": {
      "needs_background": "light"
     },
     "output_type": "display_data"
    }
   ],
   "source": [
    "%matplotlib inline\n",
    "import matplotlib.pyplot as plt #plt.subplots사용을 위한 임포트\n",
    "\n",
    "fig, loss_ax = plt.subplots()\n",
    "\n",
    "acc_ax = loss_ax.twinx()\n",
    "\n",
    "loss_ax.plot(hist.history['loss'], 'y', label='train loss')\n",
    "loss_ax.plot(hist.history['val_loss'], 'r', label='val loss')\n",
    "loss_ax.set_ylim([-0.2, 1.2])\n",
    "\n",
    "acc_ax.plot(hist.history['acc'], 'b', label='train acc')\n",
    "acc_ax.plot(hist.history['val_acc'], 'g', label='val acc')\n",
    "acc_ax.set_ylim([-0.2, 1.2])\n",
    "\n",
    "loss_ax.set_xlabel('epoch')\n",
    "loss_ax.set_ylabel('loss')\n",
    "acc_ax.set_ylabel('accuray')\n",
    "\n",
    "loss_ax.legend(loc='upper left')\n",
    "acc_ax.legend(loc='lower left')\n",
    "\n",
    "plt.show()"
   ]
  },
  {
   "cell_type": "code",
   "execution_count": 17,
   "metadata": {},
   "outputs": [
    {
     "name": "stdout",
     "output_type": "stream",
     "text": [
      "25000/25000 [==============================] - 45s 2ms/step\n",
      "- 평가결과는?! -\n",
      "[1.3167530688476563, 0.8375599999809266]\n"
     ]
    }
   ],
   "source": [
    "# 모델 평가\n",
    "loss_and_metrics = model.evaluate(x_test, y_test, batch_size=64)\n",
    "print('- 평가결과는?! -')\n",
    "print(loss_and_metrics)"
   ]
  },
  {
   "cell_type": "code",
   "execution_count": null,
   "metadata": {},
   "outputs": [],
   "source": []
  }
 ],
 "metadata": {
  "kernelspec": {
   "display_name": "Python 3",
   "language": "python",
   "name": "python3"
  },
  "language_info": {
   "codemirror_mode": {
    "name": "ipython",
    "version": 3
   },
   "file_extension": ".py",
   "mimetype": "text/x-python",
   "name": "python",
   "nbconvert_exporter": "python",
   "pygments_lexer": "ipython3",
   "version": "3.6.8"
  }
 },
 "nbformat": 4,
 "nbformat_minor": 2
}
