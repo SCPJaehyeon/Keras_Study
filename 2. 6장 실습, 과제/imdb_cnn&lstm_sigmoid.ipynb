{
 "cells": [
  {
   "cell_type": "markdown",
   "metadata": {},
   "source": [
    "### LSTM을 사용한 IMDB\n",
    "--------------------\n",
    "IMDB 데이터셋: 케라스에 포함되어있는 데이터셋으로 인터넷 영화의 데이터베이스로부터 가져온 양극단의 리뷰 5만개로 이루어진 데이터셋\n",
    "\n",
    "IMDB 데이터 특징\n",
    "\n",
    "    1) 전처리되어 있어 각 리뷰가 숫자 시퀀스로 변환되어 있음\n",
    "    2) 각 숫자는 사전에 있는 고유한 단어를 나타냄\n",
    "    3) 훈련 데이터 2만 5천개와 테스트 데이터 2만 5천개로 나뉨\n",
    "    4) 각각 50%는 긍정, 50%는 부정으로 구성\n",
    "\n",
    "--------------------\n",
    "\n",
    "- LSTM (순환 신경망) : 이전 스텍의 출력값이 다시 입력으로 연결되는 신경망을 순환 신경망이라 하는데 RNN에서의 기울기 소실을 보안한 신경망\n",
    "\n",
    "- CNN (합성곱 신경망) : 입력층, 출력층 가운데 중간층에 합성곱층과 풀링층을 둔 신경망으로 다차원 배열을 통해 데이터를 처리\n",
    "\n",
    "- CNN과 LSTM을 이용한 모델"
   ]
  },
  {
   "cell_type": "code",
   "execution_count": 16,
   "metadata": {},
   "outputs": [],
   "source": [
    "#IMDB와 CNN, LSTM을 포함한 필요 패키지들 임포트\n",
    "from keras.datasets import imdb\n",
    "from keras.models import Sequential\n",
    "from keras.layers import Dense, LSTM, Embedding, Dropout, Activation\n",
    "from keras.preprocessing import sequence\n",
    "from keras.layers import Conv1D, MaxPooling1D\n",
    "from keras.utils import np_utils\n",
    "\n",
    "import numpy\n",
    "import tensorflow as tf\n",
    "import matplotlib.pyplot as plt\n",
    "\n",
    "maxfeatures = 5000\n",
    "maxword = 100\n",
    "\n",
    "# 훈련, 시험셋을 불러옴\n",
    "(x_train, y_train), (x_test, y_test) = imdb.load_data(num_words=maxfeatures)"
   ]
  },
  {
   "cell_type": "code",
   "execution_count": 17,
   "metadata": {},
   "outputs": [],
   "source": [
    "# 훈련, 시험셋 구분\n",
    "x_train = sequence.pad_sequences(x_train, maxword)\n",
    "x_test = sequence.pad_sequences(x_test, maxword)"
   ]
  },
  {
   "cell_type": "code",
   "execution_count": 18,
   "metadata": {},
   "outputs": [
    {
     "name": "stdout",
     "output_type": "stream",
     "text": [
      "_________________________________________________________________\n",
      "Layer (type)                 Output Shape              Param #   \n",
      "=================================================================\n",
      "embedding_3 (Embedding)      (None, None, 100)         500000    \n",
      "_________________________________________________________________\n",
      "dropout_3 (Dropout)          (None, None, 100)         0         \n",
      "_________________________________________________________________\n",
      "conv1d_2 (Conv1D)            (None, None, 64)          32064     \n",
      "_________________________________________________________________\n",
      "max_pooling1d_2 (MaxPooling1 (None, None, 64)          0         \n",
      "_________________________________________________________________\n",
      "lstm_2 (LSTM)                (None, 50)                23000     \n",
      "_________________________________________________________________\n",
      "dense_2 (Dense)              (None, 1)                 51        \n",
      "_________________________________________________________________\n",
      "activation_2 (Activation)    (None, 1)                 0         \n",
      "=================================================================\n",
      "Total params: 555,115\n",
      "Trainable params: 555,115\n",
      "Non-trainable params: 0\n",
      "_________________________________________________________________\n"
     ]
    }
   ],
   "source": [
    "model = Sequential()\n",
    "model.add(Embedding(5000,100))\n",
    "model.add(Dropout(0.5))\n",
    "model.add(Conv1D(64,5, padding= 'valid', activation='relu', strides=1)) #CNN모델!\n",
    "model.add(MaxPooling1D(pool_size=4))\n",
    "model.add(LSTM(50)) #추가적으로 LSTM모델!\n",
    "model.add(Dense(1))\n",
    "model.add(Activation('sigmoid'))\n",
    "model.summary() #summary출력"
   ]
  },
  {
   "cell_type": "code",
   "execution_count": 19,
   "metadata": {},
   "outputs": [
    {
     "name": "stdout",
     "output_type": "stream",
     "text": [
      "Train on 25000 samples, validate on 25000 samples\n",
      "Epoch 1/25\n",
      "25000/25000 [==============================] - 92s 4ms/step - loss: 0.4627 - acc: 0.7598 - val_loss: 0.3456 - val_acc: 0.8493\n",
      "Epoch 2/25\n",
      "25000/25000 [==============================] - 82s 3ms/step - loss: 0.2910 - acc: 0.8783 - val_loss: 0.3225 - val_acc: 0.8582\n",
      "Epoch 3/25\n",
      "25000/25000 [==============================] - 85s 3ms/step - loss: 0.2461 - acc: 0.8996 - val_loss: 0.3310 - val_acc: 0.8594\n",
      "Epoch 4/25\n",
      "25000/25000 [==============================] - 85s 3ms/step - loss: 0.2141 - acc: 0.9159 - val_loss: 0.3386 - val_acc: 0.8564\n",
      "Epoch 5/25\n",
      "25000/25000 [==============================] - 83s 3ms/step - loss: 0.1816 - acc: 0.9310 - val_loss: 0.3885 - val_acc: 0.8458\n",
      "Epoch 6/25\n",
      "25000/25000 [==============================] - 85s 3ms/step - loss: 0.1500 - acc: 0.9442 - val_loss: 0.3868 - val_acc: 0.8491\n",
      "Epoch 7/25\n",
      "25000/25000 [==============================] - 84s 3ms/step - loss: 0.1230 - acc: 0.9557 - val_loss: 0.4614 - val_acc: 0.8451\n",
      "Epoch 8/25\n",
      "25000/25000 [==============================] - 83s 3ms/step - loss: 0.1060 - acc: 0.9623 - val_loss: 0.4365 - val_acc: 0.8471\n",
      "Epoch 9/25\n",
      "25000/25000 [==============================] - 86s 3ms/step - loss: 0.0846 - acc: 0.9701 - val_loss: 0.4893 - val_acc: 0.8433\n",
      "Epoch 10/25\n",
      "25000/25000 [==============================] - 83s 3ms/step - loss: 0.0751 - acc: 0.9734 - val_loss: 0.5178 - val_acc: 0.8461\n",
      "Epoch 11/25\n",
      "25000/25000 [==============================] - 82s 3ms/step - loss: 0.0634 - acc: 0.9775 - val_loss: 0.5686 - val_acc: 0.8455\n",
      "Epoch 12/25\n",
      "25000/25000 [==============================] - 86s 3ms/step - loss: 0.0564 - acc: 0.9798 - val_loss: 0.5847 - val_acc: 0.8410\n",
      "Epoch 13/25\n",
      "25000/25000 [==============================] - 83s 3ms/step - loss: 0.0479 - acc: 0.9834 - val_loss: 0.5630 - val_acc: 0.8427\n",
      "Epoch 14/25\n",
      "25000/25000 [==============================] - 83s 3ms/step - loss: 0.0487 - acc: 0.9823 - val_loss: 0.5781 - val_acc: 0.8406\n",
      "Epoch 15/25\n",
      "25000/25000 [==============================] - 86s 3ms/step - loss: 0.0474 - acc: 0.9822 - val_loss: 0.5877 - val_acc: 0.8422\n",
      "Epoch 16/25\n",
      "25000/25000 [==============================] - 82s 3ms/step - loss: 0.0410 - acc: 0.9858 - val_loss: 0.6412 - val_acc: 0.8411\n",
      "Epoch 17/25\n",
      "25000/25000 [==============================] - 84s 3ms/step - loss: 0.0336 - acc: 0.9878 - val_loss: 0.7255 - val_acc: 0.8377\n",
      "Epoch 18/25\n",
      "25000/25000 [==============================] - 86s 3ms/step - loss: 0.0341 - acc: 0.9893 - val_loss: 0.6778 - val_acc: 0.8341\n",
      "Epoch 19/25\n",
      "25000/25000 [==============================] - 82s 3ms/step - loss: 0.0302 - acc: 0.9893 - val_loss: 0.7951 - val_acc: 0.8429\n",
      "Epoch 20/25\n",
      "25000/25000 [==============================] - 84s 3ms/step - loss: 0.0319 - acc: 0.9893 - val_loss: 0.7118 - val_acc: 0.8376\n",
      "Epoch 21/25\n",
      "25000/25000 [==============================] - 86s 3ms/step - loss: 0.0298 - acc: 0.9892 - val_loss: 0.7233 - val_acc: 0.8403\n",
      "Epoch 22/25\n",
      "25000/25000 [==============================] - 77s 3ms/step - loss: 0.0286 - acc: 0.9894 - val_loss: 0.7232 - val_acc: 0.8409\n",
      "Epoch 23/25\n",
      "25000/25000 [==============================] - 64s 3ms/step - loss: 0.0263 - acc: 0.9903 - val_loss: 0.7142 - val_acc: 0.8413\n",
      "Epoch 24/25\n",
      "25000/25000 [==============================] - 61s 2ms/step - loss: 0.0301 - acc: 0.9891 - val_loss: 0.7060 - val_acc: 0.8420\n",
      "Epoch 25/25\n",
      "25000/25000 [==============================] - 62s 2ms/step - loss: 0.0258 - acc: 0.9908 - val_loss: 0.7510 - val_acc: 0.8367\n"
     ]
    }
   ],
   "source": [
    "# 모델을 학습하기 위해 과정을 정하고\n",
    "model.compile(loss='binary_crossentropy', optimizer='adam', metrics=['accuracy'])\n",
    "\n",
    "# 25에포크로 모델 학습을 시작\n",
    "history = model.fit(x_train, y_train, epochs=25, batch_size=100, validation_data=(x_test,y_test))"
   ]
  },
  {
   "cell_type": "code",
   "execution_count": 20,
   "metadata": {},
   "outputs": [
    {
     "name": "stdout",
     "output_type": "stream",
     "text": [
      "25000/25000 [==============================] - 19s 749us/step\n",
      "\n",
      " 정확도는 0.8367 입니다\n"
     ]
    }
   ],
   "source": [
    "#시험 정확도는?\n",
    "print(\"\\n 정확도는 %.4f 입니다\" % (model.evaluate(x_test, y_test)[1]))\n",
    "\n",
    "#시험셋의 오차\n",
    "y_vloss = history.history['val_loss']\n",
    "\n",
    "#훈련셋의 오차\n",
    "y_loss = history.history['loss']"
   ]
  },
  {
   "cell_type": "code",
   "execution_count": 21,
   "metadata": {},
   "outputs": [
    {
     "data": {
      "image/png": "[encoded data removed]",
      "text/plain": [
       "<Figure size 432x288 with 1 Axes>"
      ]
     },
     "metadata": {
      "needs_background": "light"
     },
     "output_type": "display_data"
    }
   ],
   "source": [
    "x_len = numpy.arange(len(y_loss))\n",
    "plt.plot(x_len, y_vloss, marker='.', c=\"red\", label=\"Testset_loss\")\n",
    "plt.plot(x_len, y_loss, marker='.', c=\"blue\", label=\"Trainset_loss\")\n",
    "\n",
    "#레이블 표시\n",
    "plt.legend(loc='upper right')\n",
    "plt.grid()\n",
    "plt.xlabel('epoch')\n",
    "plt.ylabel('loss')\n",
    "plt.show()"
   ]
  },
  {
   "cell_type": "code",
   "execution_count": 22,
   "metadata": {},
   "outputs": [
    {
     "name": "stdout",
     "output_type": "stream",
     "text": [
      "25000/25000 [==============================] - 16s 646us/step\n",
      "- 평가결과는?! -\n",
      "[0.7509881188011169, 0.836720000038147]\n"
     ]
    }
   ],
   "source": [
    "# 모델 평가\n",
    "loss_and_metrics = model.evaluate(x_test, y_test, batch_size=64)\n",
    "print('- 평가결과는?! -')\n",
    "print(loss_and_metrics)"
   ]
  },
  {
   "cell_type": "code",
   "execution_count": null,
   "metadata": {},
   "outputs": [],
   "source": []
  }
 ],
 "metadata": {
  "kernelspec": {
   "display_name": "Python 3",
   "language": "python",
   "name": "python3"
  },
  "language_info": {
   "codemirror_mode": {
    "name": "ipython",
    "version": 3
   },
   "file_extension": ".py",
   "mimetype": "text/x-python",
   "name": "python",
   "nbconvert_exporter": "python",
   "pygments_lexer": "ipython3",
   "version": "3.6.8"
  }
 },
 "nbformat": 4,
 "nbformat_minor": 2
}
