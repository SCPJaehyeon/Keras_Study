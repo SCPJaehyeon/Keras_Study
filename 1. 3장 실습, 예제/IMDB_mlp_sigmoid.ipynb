{
 "cells": [
  {
   "cell_type": "markdown",
   "metadata": {},
   "source": [
    "### 영화 리뷰 분류 : 이진분류예제\n",
    "--------------------\n",
    "IMDB 데이터셋: 케라스에 포함되어있는 데이터셋으로 인터넷 영화의 데이터베이스로부터 가져온 양극단의 리뷰 5만개로 이루어진 데이터셋\n",
    "\n",
    "--------------------\n",
    "\n",
    "IMDB 데이터 특징\n",
    "- 1) 전처리되어 있어 각 리뷰가 숫자 시퀀스로 변환되어 있음\n",
    "- 2) 각 숫자는 사전에 있는 고유한 단어를 나타냄\n",
    "- 3) 훈련 데이터 2만 5천개와 테스트 데이터 2만 5천개로 나뉨\n",
    "- 4) 각각 50%는 긍정, 50%는 부정으로 구성\n",
    "\n",
    "--------------------\n",
    "\n",
    "sigmoid 공부\n",
    "\n",
    "sigmoid 함수 : 참, 거짓이나 이산적인 결과값을 나타내는 데 사용되는 함수\n",
    "\n",
    "sigmoid 특징\n",
    "- 1) 출력값이 연속적\n",
    "- 2) 최소출력은 0, 최대출력은 1\n",
    "- 3) 직선 한개로 표현할 수 없는 비선형함수"
   ]
  },
  {
   "cell_type": "markdown",
   "metadata": {},
   "source": [
    "- 케라스 데이터셋에서 imdb 데이터셋 임포트\n",
    "- 리뷰의 목록으로 긍정(1)과 부정(0)으로 나타내는 리스트, 훈련데이터 2만5천개중 1만오천개를 사용\n",
    "- 실제 데이터는 단어들로 되어있고 정수 변환과 인코딩과정을 통해 정수로나타난다."
   ]
  },
  {
   "cell_type": "code",
   "execution_count": 1,
   "metadata": {},
   "outputs": [
    {
     "name": "stderr",
     "output_type": "stream",
     "text": [
      "Using TensorFlow backend.\n"
     ]
    }
   ],
   "source": [
    "from keras.datasets import imdb\n",
    "\n",
    "maxfeatures = 15000\n",
    "\n",
    "(train_data, train_labels), (test_data, test_labels) = imdb.load_data(num_words=maxfeatures)"
   ]
  },
  {
   "cell_type": "markdown",
   "metadata": {},
   "source": [
    "- results[i]에서 특정 인덱스의 위치를 1로 만든다.\n",
    "- result 행렬은 2차원 배열이다.\n",
    "- 훈련 데이터, 테스트 데이터, 레이블을 벡터로 변환한다."
   ]
  },
  {
   "cell_type": "code",
   "execution_count": 2,
   "metadata": {},
   "outputs": [],
   "source": [
    "import numpy as np\n",
    "def vectorize_sequences(sequences, dimension=15000):\n",
    "    results = np.zeros((len(sequences), dimension))\n",
    "    for i, sequence in enumerate(sequences):\n",
    "        results[i, sequence] = 1.\n",
    "    return results\n",
    "\n",
    "x_train=vectorize_sequences(train_data)\n",
    "x_test = vectorize_sequences(test_data)\n",
    "y_train = np.asarray(train_labels).astype('float32')\n",
    "y_test = np.asarray(test_labels).astype('float32')"
   ]
  },
  {
   "cell_type": "markdown",
   "metadata": {},
   "source": [
    "- 3개의 층으로 된 신경망을 구현한다\n",
    "- 16개의 은닉 유닛이 있다\n",
    "- sigmoid는 2진분류목적으로 사용"
   ]
  },
  {
   "cell_type": "code",
   "execution_count": 3,
   "metadata": {},
   "outputs": [
    {
     "name": "stdout",
     "output_type": "stream",
     "text": [
      "WARNING:tensorflow:From C:\\ProgramData\\Anaconda3\\envs\\jaehyeon\\lib\\site-packages\\tensorflow\\python\\framework\\op_def_library.py:263: colocate_with (from tensorflow.python.framework.ops) is deprecated and will be removed in a future version.\n",
      "Instructions for updating:\n",
      "Colocations handled automatically by placer.\n"
     ]
    }
   ],
   "source": [
    "from keras import models\n",
    "from keras import layers\n",
    "\n",
    "model = models.Sequential()\n",
    "model.add(layers.Dense(16, activation='relu', input_shape=(15000,)))\n",
    "model.add(layers.Dense(16, activation='relu'))\n",
    "model.add(layers.Dense(1, activation='sigmoid'))"
   ]
  },
  {
   "cell_type": "markdown",
   "metadata": {},
   "source": [
    "- rmsprop 옵티마이저, binary_crossentropy 손실 함수로 모델 설정"
   ]
  },
  {
   "cell_type": "code",
   "execution_count": 4,
   "metadata": {},
   "outputs": [],
   "source": [
    "model.compile(optimizer='rmsprop', loss='binary_crossentropy', metrics=['accuracy'])"
   ]
  },
  {
   "cell_type": "markdown",
   "metadata": {},
   "source": [
    "- loss와 metrics 매개변수에 함수 객체 전달"
   ]
  },
  {
   "cell_type": "code",
   "execution_count": 5,
   "metadata": {},
   "outputs": [],
   "source": [
    "from keras import optimizers\n",
    "from keras import losses\n",
    "from keras import metrics\n",
    "\n",
    "model.compile(optimizer=optimizers.RMSprop(lr=0.001), loss=losses.binary_crossentropy, metrics=[metrics.binary_accuracy])"
   ]
  },
  {
   "cell_type": "markdown",
   "metadata": {},
   "source": [
    "- 원본 훈련 데이터에서 15000개 샘플로 검증 세트 생성"
   ]
  },
  {
   "cell_type": "code",
   "execution_count": 6,
   "metadata": {},
   "outputs": [],
   "source": [
    "x_val = x_train[:15000]\n",
    "partial_x_train = x_train[15000:]\n",
    "y_val = y_train[:15000]\n",
    "partial_y_train = y_train[15000:]"
   ]
  },
  {
   "cell_type": "markdown",
   "metadata": {},
   "source": [
    "- 모델을 512개의 샘플씩 미니 배치 만들고 25번의 에포크 동안 훈련"
   ]
  },
  {
   "cell_type": "code",
   "execution_count": 7,
   "metadata": {},
   "outputs": [
    {
     "name": "stdout",
     "output_type": "stream",
     "text": [
      "WARNING:tensorflow:From C:\\ProgramData\\Anaconda3\\envs\\jaehyeon\\lib\\site-packages\\tensorflow\\python\\ops\\math_ops.py:3066: to_int32 (from tensorflow.python.ops.math_ops) is deprecated and will be removed in a future version.\n",
      "Instructions for updating:\n",
      "Use tf.cast instead.\n",
      "Train on 10000 samples, validate on 15000 samples\n",
      "Epoch 1/25\n",
      "10000/10000 [==============================] - 11s 1ms/step - loss: 0.5591 - acc: 0.7563 - val_loss: 0.4372 - val_acc: 0.8632\n",
      "Epoch 2/25\n",
      "10000/10000 [==============================] - 7s 739us/step - loss: 0.3444 - acc: 0.9023 - val_loss: 0.3419 - val_acc: 0.8819\n",
      "Epoch 3/25\n",
      "10000/10000 [==============================] - 7s 747us/step - loss: 0.2401 - acc: 0.9334 - val_loss: 0.3038 - val_acc: 0.8849\n",
      "Epoch 4/25\n",
      "10000/10000 [==============================] - 7s 743us/step - loss: 0.1787 - acc: 0.9517 - val_loss: 0.2848 - val_acc: 0.8895\n",
      "Epoch 5/25\n",
      "10000/10000 [==============================] - 7s 720us/step - loss: 0.1343 - acc: 0.9678 - val_loss: 0.2812 - val_acc: 0.8883\n",
      "Epoch 6/25\n",
      "10000/10000 [==============================] - 7s 714us/step - loss: 0.1021 - acc: 0.9779 - val_loss: 0.2932 - val_acc: 0.8847\n",
      "Epoch 7/25\n",
      "10000/10000 [==============================] - 7s 709us/step - loss: 0.0766 - acc: 0.9845 - val_loss: 0.3368 - val_acc: 0.8737\n",
      "Epoch 8/25\n",
      "10000/10000 [==============================] - 7s 699us/step - loss: 0.0600 - acc: 0.9885 - val_loss: 0.3187 - val_acc: 0.8799\n",
      "Epoch 9/25\n",
      "10000/10000 [==============================] - 7s 721us/step - loss: 0.0414 - acc: 0.9936 - val_loss: 0.4139 - val_acc: 0.8636\n",
      "Epoch 10/25\n",
      "10000/10000 [==============================] - 7s 715us/step - loss: 0.0312 - acc: 0.9951 - val_loss: 0.3671 - val_acc: 0.8764\n",
      "Epoch 11/25\n",
      "10000/10000 [==============================] - 7s 724us/step - loss: 0.0220 - acc: 0.9974 - val_loss: 0.3938 - val_acc: 0.8748\n",
      "Epoch 12/25\n",
      "10000/10000 [==============================] - 7s 731us/step - loss: 0.0160 - acc: 0.9981 - val_loss: 0.4265 - val_acc: 0.8733\n",
      "Epoch 13/25\n",
      "10000/10000 [==============================] - 7s 731us/step - loss: 0.0114 - acc: 0.9991 - val_loss: 0.4596 - val_acc: 0.8728\n",
      "Epoch 14/25\n",
      "10000/10000 [==============================] - 7s 702us/step - loss: 0.0067 - acc: 0.9998 - val_loss: 0.4952 - val_acc: 0.8707\n",
      "Epoch 15/25\n",
      "10000/10000 [==============================] - 7s 703us/step - loss: 0.0058 - acc: 0.9998 - val_loss: 0.5250 - val_acc: 0.8712\n",
      "Epoch 16/25\n",
      "10000/10000 [==============================] - 7s 712us/step - loss: 0.0031 - acc: 0.9999 - val_loss: 0.5575 - val_acc: 0.8700\n",
      "Epoch 17/25\n",
      "10000/10000 [==============================] - 7s 714us/step - loss: 0.0037 - acc: 0.9997 - val_loss: 0.5950 - val_acc: 0.8686\n",
      "Epoch 18/25\n",
      "10000/10000 [==============================] - 6s 647us/step - loss: 0.0014 - acc: 0.9999 - val_loss: 0.6110 - val_acc: 0.8671\n",
      "Epoch 19/25\n",
      "10000/10000 [==============================] - 7s 713us/step - loss: 0.0011 - acc: 0.9999 - val_loss: 0.6431 - val_acc: 0.8655\n",
      "Epoch 20/25\n",
      "10000/10000 [==============================] - 7s 727us/step - loss: 7.4227e-04 - acc: 1.0000 - val_loss: 0.6895 - val_acc: 0.8667\n",
      "Epoch 21/25\n",
      "10000/10000 [==============================] - 7s 709us/step - loss: 6.2919e-04 - acc: 1.0000 - val_loss: 0.7273 - val_acc: 0.8655\n",
      "Epoch 22/25\n",
      "10000/10000 [==============================] - 7s 731us/step - loss: 2.8140e-04 - acc: 1.0000 - val_loss: 0.7610 - val_acc: 0.8643\n",
      "Epoch 23/25\n",
      "10000/10000 [==============================] - 7s 714us/step - loss: 7.7960e-04 - acc: 0.9998 - val_loss: 0.8074 - val_acc: 0.8648\n",
      "Epoch 24/25\n",
      "10000/10000 [==============================] - 7s 726us/step - loss: 1.1987e-04 - acc: 1.0000 - val_loss: 0.8116 - val_acc: 0.8641\n",
      "Epoch 25/25\n",
      "10000/10000 [==============================] - 7s 748us/step - loss: 9.8307e-05 - acc: 1.0000 - val_loss: 0.8251 - val_acc: 0.8642\n"
     ]
    }
   ],
   "source": [
    "model.compile(optimizer='rmsprop',loss='binary_crossentropy',metrics=['acc'])\n",
    "history = model.fit(partial_x_train, partial_y_train, epochs=25, batch_size=512, validation_data=(x_val, y_val))"
   ]
  },
  {
   "cell_type": "markdown",
   "metadata": {},
   "source": [
    "- 훈련과 검증 손실 그리기"
   ]
  },
  {
   "cell_type": "code",
   "execution_count": 9,
   "metadata": {},
   "outputs": [
    {
     "data": {
      "image/png": "[encoded data removed]",
      "text/plain": [
       "<Figure size 432x288 with 1 Axes>"
      ]
     },
     "metadata": {
      "needs_background": "light"
     },
     "output_type": "display_data"
    }
   ],
   "source": [
    "import matplotlib.pyplot as plt\n",
    "history_dict = history.history\n",
    "loss = history_dict['loss']\n",
    "val_loss = history_dict['val_loss']\n",
    "epochs = range(1, len(loss) + 1)\n",
    "plt.plot(epochs, loss, 'bo', label='Training loss')\n",
    "plt.plot(epochs, val_loss, 'b', label='Validation loss')\n",
    "plt.title('Training and Validation loss')\n",
    "plt.xlabel('Epochs')\n",
    "plt.ylabel('Loss')\n",
    "plt.legend()\n",
    "plt.show()"
   ]
  },
  {
   "cell_type": "markdown",
   "metadata": {},
   "source": [
    "- 훈련과 검증 정확도 그리기"
   ]
  },
  {
   "cell_type": "code",
   "execution_count": 10,
   "metadata": {},
   "outputs": [
    {
     "data": {
      "image/png": "[encoded data removed]",
      "text/plain": [
       "<Figure size 432x288 with 1 Axes>"
      ]
     },
     "metadata": {
      "needs_background": "light"
     },
     "output_type": "display_data"
    }
   ],
   "source": [
    "plt.clf()\n",
    "acc = history_dict['acc']\n",
    "val_acc = history_dict['val_acc']\n",
    "\n",
    "plt.plot(epochs, loss, 'bo', label='Training acc')\n",
    "plt.plot(epochs, val_loss, 'b', label='Validation acc')\n",
    "plt.title('Training and Validation loss')\n",
    "plt.xlabel('Epochs')\n",
    "plt.ylabel('Accuracy')\n",
    "plt.legend()\n",
    "plt.show()"
   ]
  },
  {
   "cell_type": "code",
   "execution_count": null,
   "metadata": {},
   "outputs": [],
   "source": []
  }
 ],
 "metadata": {
  "kernelspec": {
   "display_name": "Python 3",
   "language": "python",
   "name": "python3"
  },
  "language_info": {
   "codemirror_mode": {
    "name": "ipython",
    "version": 3
   },
   "file_extension": ".py",
   "mimetype": "text/x-python",
   "name": "python",
   "nbconvert_exporter": "python",
   "pygments_lexer": "ipython3",
   "version": "3.6.8"
  }
 },
 "nbformat": 4,
 "nbformat_minor": 2
}
