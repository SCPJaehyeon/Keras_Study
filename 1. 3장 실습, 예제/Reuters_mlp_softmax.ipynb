{
 "cells": [
  {
   "cell_type": "markdown",
   "metadata": {},
   "source": [
    "### 뉴스 기사 분류 : 다중분류예제\n",
    "--------------------\n",
    "로이터 데이터셋: 로이터에서 공개한 짧은 뉴스 기사와 토픽의 집합, 텍스트 분류를 위해 널리 사용되는 간단한 데이터셋\n",
    "\n",
    "--------------------\n",
    "\n",
    "로이터 데이터셋 특징\n",
    "- 1) 46개의 토픽이 있으며 어떤 토픽은 다른 것에 비해 데이터가 많음\n",
    "- 2) 각 토픽은 훈련 세트에 최소한 10개의 샘플 보유 중\n",
    "\n",
    "--------------------\n",
    "\n",
    "softmax 공부\n",
    "\n",
    "softmax 함수 : 3개 이상으로 분류된 요소들로부터 하나의 결과 값을\n",
    "얻고자 할 때 사용\n",
    "\n",
    "softmax 특징\n",
    "- 1) 출력으로 0,1사이의 값을 모두 정규화 해 총합은 항상 1이 됨\n",
    "- 2) 지수 함수를 포함하고 있어, 값의 증가 속도로 인해 오버플로우 초래 가능성 존재(개선 가능)\n",
    "- 3) 출력층 활성화 함수"
   ]
  },
  {
   "cell_type": "markdown",
   "metadata": {},
   "source": [
    "- 케라스 데이터셋에서 로이터 데이터셋 임포트\n",
    "- 로이터 데이터셋에서 가장 자주 등장하는 단어 10000개로 제한"
   ]
  },
  {
   "cell_type": "code",
   "execution_count": 2,
   "metadata": {},
   "outputs": [
    {
     "name": "stderr",
     "output_type": "stream",
     "text": [
      "Using TensorFlow backend.\n"
     ]
    }
   ],
   "source": [
    "from keras.datasets import reuters\n",
    "\n",
    "maxfeatures = 10000\n",
    "(train_data, train_labels), (test_data, test_labels) = reuters.load_data(num_words=maxfeatures)"
   ]
  },
  {
   "cell_type": "markdown",
   "metadata": {},
   "source": [
    "- 각 샘플은 정수 리스트로 단어로 디코딩이 가능"
   ]
  },
  {
   "cell_type": "code",
   "execution_count": 3,
   "metadata": {},
   "outputs": [],
   "source": [
    "word_index = reuters.get_word_index()\n",
    "reverse_word_index = dict([(value, key) for (key, value) in word_index.items()])\n",
    "decoded_newswire = ' '.join([reverse_word_index.get(i-3, '?') for i in train_data[0]])"
   ]
  },
  {
   "cell_type": "markdown",
   "metadata": {},
   "source": [
    "- 훈련 데이터, 테스트 데이터를 벡터로 변환"
   ]
  },
  {
   "cell_type": "code",
   "execution_count": 4,
   "metadata": {},
   "outputs": [],
   "source": [
    "import numpy as np\n",
    "def vectorize_sequences(sequences, dimension=10000):\n",
    "    results = np.zeros((len(sequences,), dimension))\n",
    "    for i, sequence in enumerate(sequences):\n",
    "        results[i, sequence] = 1.\n",
    "    return results\n",
    "x_train = vectorize_sequences(train_data)\n",
    "x_test = vectorize_sequences(test_data)"
   ]
  },
  {
   "cell_type": "markdown",
   "metadata": {},
   "source": [
    "- 아래와 같이 범주형 인코딩을 통해 훈련, 데이터 레이블 벡터 변환"
   ]
  },
  {
   "cell_type": "code",
   "execution_count": 5,
   "metadata": {},
   "outputs": [],
   "source": [
    "def to_one_hot(labels, dimension=46):\n",
    "    results = np.zeros((len(labels), dimension))\n",
    "    for i, label in enumerate(labels):\n",
    "        results[i, label] = 1.\n",
    "    return results\n",
    "\n",
    "one_hot_train_labels = to_one_hot(train_labels)\n",
    "one_hot_test_labels = to_one_hot(test_labels)"
   ]
  },
  {
   "cell_type": "markdown",
   "metadata": {},
   "source": [
    "- 3개의 층으로 모델을 나누고 64개 유닛 등을 사용해 모델 정의\n",
    "- softmax로 46개의 확률 점수가 들어있는 배열을 반환한다. \n",
    "- 손실함수와 옵티마이저, 훈련과 테스트 과정을 모니터링할 지표를 이용한 모델컴파일"
   ]
  },
  {
   "cell_type": "code",
   "execution_count": 6,
   "metadata": {},
   "outputs": [
    {
     "name": "stdout",
     "output_type": "stream",
     "text": [
      "WARNING:tensorflow:From C:\\ProgramData\\Anaconda3\\envs\\jaehyeon\\lib\\site-packages\\tensorflow\\python\\framework\\op_def_library.py:263: colocate_with (from tensorflow.python.framework.ops) is deprecated and will be removed in a future version.\n",
      "Instructions for updating:\n",
      "Colocations handled automatically by placer.\n"
     ]
    }
   ],
   "source": [
    "from keras import models\n",
    "from keras import layers\n",
    "model = models.Sequential()\n",
    "model.add(layers.Dense(64, activation='relu', input_shape=(10000,)))\n",
    "model.add(layers.Dense(64, activation='relu'))\n",
    "model.add(layers.Dense(46, activation='softmax'))"
   ]
  },
  {
   "cell_type": "code",
   "execution_count": 7,
   "metadata": {},
   "outputs": [],
   "source": [
    "model.compile(optimizer='rmsprop', loss='categorical_crossentropy', metrics=['accuracy'])"
   ]
  },
  {
   "cell_type": "markdown",
   "metadata": {},
   "source": [
    "- 훈련 데이터에서 1000개의 샘플을 검증 세트로 사용\n",
    "- 모델을 512개의 샘플씩 미니 배치 만들고 25번의 에포크 동안 훈련"
   ]
  },
  {
   "cell_type": "code",
   "execution_count": 8,
   "metadata": {},
   "outputs": [],
   "source": [
    "x_val = x_train[:1000]\n",
    "partial_x_train = x_train[1000:]\n",
    "\n",
    "y_val = one_hot_train_labels[:1000]\n",
    "partial_y_train = one_hot_train_labels[1000:]"
   ]
  },
  {
   "cell_type": "code",
   "execution_count": 9,
   "metadata": {},
   "outputs": [
    {
     "name": "stdout",
     "output_type": "stream",
     "text": [
      "WARNING:tensorflow:From C:\\ProgramData\\Anaconda3\\envs\\jaehyeon\\lib\\site-packages\\tensorflow\\python\\ops\\math_ops.py:3066: to_int32 (from tensorflow.python.ops.math_ops) is deprecated and will be removed in a future version.\n",
      "Instructions for updating:\n",
      "Use tf.cast instead.\n",
      "Train on 7982 samples, validate on 1000 samples\n",
      "Epoch 1/25\n",
      "7982/7982 [==============================] - 3s 436us/step - loss: 2.5320 - acc: 0.4956 - val_loss: 1.7213 - val_acc: 0.6110\n",
      "Epoch 2/25\n",
      "7982/7982 [==============================] - 2s 265us/step - loss: 1.4457 - acc: 0.6878 - val_loss: 1.3462 - val_acc: 0.7060\n",
      "Epoch 3/25\n",
      "7982/7982 [==============================] - 2s 270us/step - loss: 1.0958 - acc: 0.7647 - val_loss: 1.1712 - val_acc: 0.7430\n",
      "Epoch 4/25\n",
      "7982/7982 [==============================] - 2s 264us/step - loss: 0.8702 - acc: 0.8157 - val_loss: 1.0783 - val_acc: 0.7590\n",
      "Epoch 5/25\n",
      "7982/7982 [==============================] - 2s 274us/step - loss: 0.7038 - acc: 0.8479 - val_loss: 0.9851 - val_acc: 0.7820\n",
      "Epoch 6/25\n",
      "7982/7982 [==============================] - 2s 264us/step - loss: 0.5678 - acc: 0.8797 - val_loss: 0.9410 - val_acc: 0.8030\n",
      "Epoch 7/25\n",
      "7982/7982 [==============================] - 2s 264us/step - loss: 0.4600 - acc: 0.9032 - val_loss: 0.9086 - val_acc: 0.8030\n",
      "Epoch 8/25\n",
      "7982/7982 [==============================] - 2s 263us/step - loss: 0.3710 - acc: 0.9227 - val_loss: 0.9369 - val_acc: 0.7890\n",
      "Epoch 9/25\n",
      "7982/7982 [==============================] - 2s 251us/step - loss: 0.3042 - acc: 0.9307 - val_loss: 0.8927 - val_acc: 0.8070\n",
      "Epoch 10/25\n",
      "7982/7982 [==============================] - 2s 251us/step - loss: 0.2545 - acc: 0.9414 - val_loss: 0.9059 - val_acc: 0.8110\n",
      "Epoch 11/25\n",
      "7982/7982 [==============================] - 2s 258us/step - loss: 0.2190 - acc: 0.9468 - val_loss: 0.9170 - val_acc: 0.8120\n",
      "Epoch 12/25\n",
      "7982/7982 [==============================] - 2s 260us/step - loss: 0.1876 - acc: 0.9511 - val_loss: 0.9073 - val_acc: 0.8130\n",
      "Epoch 13/25\n",
      "7982/7982 [==============================] - 2s 258us/step - loss: 0.1702 - acc: 0.9525 - val_loss: 0.9340 - val_acc: 0.8100\n",
      "Epoch 14/25\n",
      "7982/7982 [==============================] - 2s 268us/step - loss: 0.1536 - acc: 0.9554 - val_loss: 0.9683 - val_acc: 0.8050\n",
      "Epoch 15/25\n",
      "7982/7982 [==============================] - 2s 273us/step - loss: 0.1391 - acc: 0.9557 - val_loss: 0.9696 - val_acc: 0.8140\n",
      "Epoch 16/25\n",
      "7982/7982 [==============================] - 2s 283us/step - loss: 0.1313 - acc: 0.9564 - val_loss: 1.0243 - val_acc: 0.8060\n",
      "Epoch 17/25\n",
      "7982/7982 [==============================] - 2s 277us/step - loss: 0.1218 - acc: 0.9578 - val_loss: 1.0242 - val_acc: 0.7980\n",
      "Epoch 18/25\n",
      "7982/7982 [==============================] - 2s 279us/step - loss: 0.1198 - acc: 0.9579 - val_loss: 1.0452 - val_acc: 0.8050\n",
      "Epoch 19/25\n",
      "7982/7982 [==============================] - 2s 275us/step - loss: 0.1136 - acc: 0.9593 - val_loss: 1.0982 - val_acc: 0.7960\n",
      "Epoch 20/25\n",
      "7982/7982 [==============================] - 2s 268us/step - loss: 0.1109 - acc: 0.9595 - val_loss: 1.0711 - val_acc: 0.8020\n",
      "Epoch 21/25\n",
      "7982/7982 [==============================] - 2s 261us/step - loss: 0.1049 - acc: 0.9577 - val_loss: 1.0883 - val_acc: 0.8070\n",
      "Epoch 22/25\n",
      "7982/7982 [==============================] - 2s 260us/step - loss: 0.1059 - acc: 0.9567 - val_loss: 1.0884 - val_acc: 0.8000\n",
      "Epoch 23/25\n",
      "7982/7982 [==============================] - 2s 260us/step - loss: 0.1007 - acc: 0.9587 - val_loss: 1.1737 - val_acc: 0.7940\n",
      "Epoch 24/25\n",
      "7982/7982 [==============================] - 2s 262us/step - loss: 0.1025 - acc: 0.9565 - val_loss: 1.1247 - val_acc: 0.8010\n",
      "Epoch 25/25\n",
      "7982/7982 [==============================] - 2s 262us/step - loss: 0.0973 - acc: 0.9585 - val_loss: 1.2586 - val_acc: 0.7700\n"
     ]
    }
   ],
   "source": [
    "history = model.fit(partial_x_train, partial_y_train, epochs=25, batch_size=512, validation_data=(x_val,y_val))"
   ]
  },
  {
   "cell_type": "markdown",
   "metadata": {},
   "source": [
    "- 훈련과 검증 손실 그리기"
   ]
  },
  {
   "cell_type": "code",
   "execution_count": 11,
   "metadata": {},
   "outputs": [
    {
     "data": {
      "image/png": "[encoded data removed]",
      "text/plain": [
       "<Figure size 432x288 with 1 Axes>"
      ]
     },
     "metadata": {
      "needs_background": "light"
     },
     "output_type": "display_data"
    }
   ],
   "source": [
    "import matplotlib.pyplot as plt\n",
    "\n",
    "loss = history.history['loss']\n",
    "val_loss = history.history['val_loss']\n",
    "epochs = range(1, len(loss) + 1)\n",
    "\n",
    "plt.plot(epochs, loss, 'bo', label = 'Training loss')\n",
    "plt.plot(epochs, val_loss, 'b', label = 'Validation loss')\n",
    "plt.title('Training and validation loss')\n",
    "plt.xlabel('Epochs')\n",
    "plt.ylabel('Loss')\n",
    "plt.legend()\n",
    "\n",
    "plt.show()"
   ]
  },
  {
   "cell_type": "markdown",
   "metadata": {},
   "source": [
    "- 훈련과 검증 정확도 그리기"
   ]
  },
  {
   "cell_type": "code",
   "execution_count": 13,
   "metadata": {},
   "outputs": [
    {
     "data": {
      "image/png": "[encoded data removed]",
      "text/plain": [
       "<Figure size 432x288 with 1 Axes>"
      ]
     },
     "metadata": {
      "needs_background": "light"
     },
     "output_type": "display_data"
    }
   ],
   "source": [
    "plt.clf()\n",
    "acc = history.history['acc']\n",
    "val_acc = history.history['val_acc']\n",
    "\n",
    "plt.plot(epochs, acc, 'bo', label='Training acc')\n",
    "plt.plot(epochs, val_acc, 'b', label='Validation acc')\n",
    "plt.xlabel('Epochs')\n",
    "plt.ylabel('Accuracy')\n",
    "plt.legend()\n",
    "\n",
    "plt.show()"
   ]
  },
  {
   "cell_type": "code",
   "execution_count": null,
   "metadata": {},
   "outputs": [],
   "source": []
  }
 ],
 "metadata": {
  "kernelspec": {
   "display_name": "Python 3",
   "language": "python",
   "name": "python3"
  },
  "language_info": {
   "codemirror_mode": {
    "name": "ipython",
    "version": 3
   },
   "file_extension": ".py",
   "mimetype": "text/x-python",
   "name": "python",
   "nbconvert_exporter": "python",
   "pygments_lexer": "ipython3",
   "version": "3.6.8"
  }
 },
 "nbformat": 4,
 "nbformat_minor": 2
}
