{
 "cells": [
  {
   "cell_type": "markdown",
   "metadata": {},
   "source": [
    "### 뉴스 기사 분류 : 다중분류예제\n",
    "--------------------\n",
    "로이터 데이터셋: 로이터에서 공개한 짧은 뉴스 기사와 토픽의 집합, 텍스트 분류를 위해 널리 사용되는 간단한 데이터셋\n",
    "\n",
    "--------------------\n",
    "\n",
    "로이터 데이터셋 특징\n",
    "- 1) 46개의 토픽이 있으며 어떤 토픽은 다른 것에 비해 데이터가 많음\n",
    "- 2) 각 토픽은 훈련 세트에 최소한 10개의 샘플 보유 중"
   ]
  },
  {
   "cell_type": "markdown",
   "metadata": {},
   "source": [
    "- 케라스 데이터셋에서 로이터 데이터셋 임포트\n",
    "- 로이터 데이터셋에서 가장 자주 등장하는 단어 10000개로 제한"
   ]
  },
  {
   "cell_type": "code",
   "execution_count": 1,
   "metadata": {},
   "outputs": [
    {
     "name": "stderr",
     "output_type": "stream",
     "text": [
      "Using TensorFlow backend.\n"
     ]
    }
   ],
   "source": [
    "from keras.datasets import reuters\n",
    "(train_data, train_labels), (test_data, test_labels) = reuters.load_data(num_words=10000)"
   ]
  },
  {
   "cell_type": "markdown",
   "metadata": {},
   "source": [
    "- 각 샘플은 정수 리스트로 단어로 디코딩이 가능"
   ]
  },
  {
   "cell_type": "code",
   "execution_count": 2,
   "metadata": {},
   "outputs": [],
   "source": [
    "word_index = reuters.get_word_index()\n",
    "reverse_word_index = dict([(value, key) for (key, value) in word_index.items()])\n",
    "decoded_newswire = ' '.join([reverse_word_index.get(i-3, '?') for i in train_data[0]])"
   ]
  },
  {
   "cell_type": "markdown",
   "metadata": {},
   "source": [
    "- 훈련 데이터, 테스트 데이터를 벡터로 변환"
   ]
  },
  {
   "cell_type": "code",
   "execution_count": 3,
   "metadata": {},
   "outputs": [],
   "source": [
    "import numpy as np\n",
    "def vectorize_sequences(sequences, dimension=10000):\n",
    "    results = np.zeros((len(sequences,), dimension))\n",
    "    for i, sequence in enumerate(sequences):\n",
    "        results[i, sequence] = 1.\n",
    "    return results\n",
    "x_train = vectorize_sequences(train_data)\n",
    "x_test = vectorize_sequences(test_data)"
   ]
  },
  {
   "cell_type": "markdown",
   "metadata": {},
   "source": [
    "- 아래와 같이 범주형 인코딩을 통해 훈련, 데이터 레이블 벡터 변환"
   ]
  },
  {
   "cell_type": "code",
   "execution_count": 4,
   "metadata": {},
   "outputs": [],
   "source": [
    "def to_one_hot(labels, dimension=46):\n",
    "    results = np.zeros((len(labels), dimension))\n",
    "    for i, label in enumerate(labels):\n",
    "        results[i, label] = 1.\n",
    "    return results\n",
    "\n",
    "one_hot_train_labels = to_one_hot(train_labels)\n",
    "one_hot_test_labels = to_one_hot(test_labels)"
   ]
  },
  {
   "cell_type": "markdown",
   "metadata": {},
   "source": [
    "- 3개의 층으로 모델을 나누고 64개 유닛 등을 사용해 모델 정의\n",
    "- softmax로 46개의 확률 점수가 들어있는 배열을 반환한다. \n",
    "- 손실함수와 옵티마이저, 훈련과 테스트 과정을 모니터링할 지표를 이용한 모델컴파일"
   ]
  },
  {
   "cell_type": "code",
   "execution_count": 5,
   "metadata": {},
   "outputs": [
    {
     "name": "stdout",
     "output_type": "stream",
     "text": [
      "WARNING:tensorflow:From C:\\ProgramData\\Anaconda3\\envs\\jaehyeon\\lib\\site-packages\\tensorflow\\python\\framework\\op_def_library.py:263: colocate_with (from tensorflow.python.framework.ops) is deprecated and will be removed in a future version.\n",
      "Instructions for updating:\n",
      "Colocations handled automatically by placer.\n"
     ]
    }
   ],
   "source": [
    "from keras import models\n",
    "from keras import layers\n",
    "model = models.Sequential()\n",
    "model.add(layers.Dense(64, activation='relu', input_shape=(10000,)))\n",
    "model.add(layers.Dense(64, activation='relu'))\n",
    "model.add(layers.Dense(46, activation='softmax'))"
   ]
  },
  {
   "cell_type": "code",
   "execution_count": 6,
   "metadata": {},
   "outputs": [],
   "source": [
    "model.compile(optimizer='rmsprop', loss='categorical_crossentropy', metrics=['accuracy'])"
   ]
  },
  {
   "cell_type": "markdown",
   "metadata": {},
   "source": [
    "- 훈련 데이터에서 1000개의 샘플을 검증 세트로 사용\n",
    "- 모델을 512개의 샘플씩 미니 배치 만들고 20번의 에포크 동안 훈련"
   ]
  },
  {
   "cell_type": "code",
   "execution_count": 7,
   "metadata": {},
   "outputs": [],
   "source": [
    "x_val = x_train[:1000]\n",
    "partial_x_train = x_train[1000:]\n",
    "\n",
    "y_val = one_hot_train_labels[:1000]\n",
    "partial_y_train = one_hot_train_labels[1000:]"
   ]
  },
  {
   "cell_type": "code",
   "execution_count": 10,
   "metadata": {},
   "outputs": [
    {
     "name": "stdout",
     "output_type": "stream",
     "text": [
      "Train on 7982 samples, validate on 1000 samples\n",
      "Epoch 1/20\n",
      "7982/7982 [==============================] - 2s 301us/step - loss: 0.1055 - acc: 0.9575 - val_loss: 1.1060 - val_acc: 0.7980\n",
      "Epoch 2/20\n",
      "7982/7982 [==============================] - 2s 305us/step - loss: 0.1022 - acc: 0.9584 - val_loss: 1.1156 - val_acc: 0.8020\n",
      "Epoch 3/20\n",
      "7982/7982 [==============================] - 3s 313us/step - loss: 0.1026 - acc: 0.9587 - val_loss: 1.1015 - val_acc: 0.7950\n",
      "Epoch 4/20\n",
      "7982/7982 [==============================] - 2s 312us/step - loss: 0.1033 - acc: 0.9580 - val_loss: 1.1207 - val_acc: 0.7970\n",
      "Epoch 5/20\n",
      "7982/7982 [==============================] - 2s 312us/step - loss: 0.0971 - acc: 0.9593 - val_loss: 1.1483 - val_acc: 0.8030\n",
      "Epoch 6/20\n",
      "7982/7982 [==============================] - 3s 317us/step - loss: 0.0990 - acc: 0.9565 - val_loss: 1.2339 - val_acc: 0.7870\n",
      "Epoch 7/20\n",
      "7982/7982 [==============================] - 2s 313us/step - loss: 0.0964 - acc: 0.9575 - val_loss: 1.1778 - val_acc: 0.7950\n",
      "Epoch 8/20\n",
      "7982/7982 [==============================] - 2s 310us/step - loss: 0.0922 - acc: 0.9585 - val_loss: 1.2399 - val_acc: 0.7810\n",
      "Epoch 9/20\n",
      "7982/7982 [==============================] - 2s 311us/step - loss: 0.0949 - acc: 0.9579 - val_loss: 1.1764 - val_acc: 0.7970\n",
      "Epoch 10/20\n",
      "7982/7982 [==============================] - 2s 309us/step - loss: 0.0907 - acc: 0.9588 - val_loss: 1.2502 - val_acc: 0.7880\n",
      "Epoch 11/20\n",
      "7982/7982 [==============================] - 2s 305us/step - loss: 0.0925 - acc: 0.9575 - val_loss: 1.2037 - val_acc: 0.8000\n",
      "Epoch 12/20\n",
      "7982/7982 [==============================] - 2s 309us/step - loss: 0.0898 - acc: 0.9594 - val_loss: 1.2294 - val_acc: 0.7890\n",
      "Epoch 13/20\n",
      "7982/7982 [==============================] - 2s 301us/step - loss: 0.0905 - acc: 0.9579 - val_loss: 1.2262 - val_acc: 0.7880\n",
      "Epoch 14/20\n",
      "7982/7982 [==============================] - 2s 303us/step - loss: 0.0901 - acc: 0.9600 - val_loss: 1.2715 - val_acc: 0.7910\n",
      "Epoch 15/20\n",
      "7982/7982 [==============================] - 2s 303us/step - loss: 0.0878 - acc: 0.9588 - val_loss: 1.2505 - val_acc: 0.7880\n",
      "Epoch 16/20\n",
      "7982/7982 [==============================] - 2s 305us/step - loss: 0.0887 - acc: 0.9583 - val_loss: 1.2200 - val_acc: 0.8010\n",
      "Epoch 17/20\n",
      "7982/7982 [==============================] - 2s 303us/step - loss: 0.0871 - acc: 0.9593 - val_loss: 1.2771 - val_acc: 0.7920\n",
      "Epoch 18/20\n",
      "7982/7982 [==============================] - 2s 300us/step - loss: 0.0852 - acc: 0.9592 - val_loss: 1.2216 - val_acc: 0.7870\n",
      "Epoch 19/20\n",
      "7982/7982 [==============================] - 2s 296us/step - loss: 0.0878 - acc: 0.9577 - val_loss: 1.2281 - val_acc: 0.7930\n",
      "Epoch 20/20\n",
      "7982/7982 [==============================] - 2s 301us/step - loss: 0.0843 - acc: 0.9573 - val_loss: 1.2821 - val_acc: 0.7850\n"
     ]
    }
   ],
   "source": [
    "history = model.fit(partial_x_train, partial_y_train, epochs=20, batch_size=512, validation_data=(x_val,y_val))"
   ]
  },
  {
   "cell_type": "markdown",
   "metadata": {},
   "source": [
    "- 파란점과 파란실선으로 훈련과 검증 손실 그리기"
   ]
  },
  {
   "cell_type": "code",
   "execution_count": 11,
   "metadata": {},
   "outputs": [
    {
     "data": {
      "image/png": "[encoded data removed]",
      "text/plain": [
       "<Figure size 432x288 with 1 Axes>"
      ]
     },
     "metadata": {
      "needs_background": "light"
     },
     "output_type": "display_data"
    }
   ],
   "source": [
    "import matplotlib.pyplot as plt\n",
    "\n",
    "loss = history.history['loss']\n",
    "val_loss = history.history['val_loss']\n",
    "epochs = range(1, len(loss) + 1)\n",
    "\n",
    "plt.plot(epochs, loss, 'bo', label = 'Training loss')\n",
    "plt.plot(epochs, val_loss, 'b', label = 'Validation loss')\n",
    "plt.title('Training and validation loss')\n",
    "plt.xlabel('Epochs')\n",
    "plt.ylabel('Loss')\n",
    "plt.legend()\n",
    "\n",
    "plt.show()"
   ]
  },
  {
   "cell_type": "markdown",
   "metadata": {},
   "source": [
    "- 파란점과 파란실선 사용해 훈련과 검증 정확도 그리기"
   ]
  },
  {
   "cell_type": "code",
   "execution_count": 31,
   "metadata": {},
   "outputs": [
    {
     "data": {
      "image/png": "[encoded data removed]",
      "text/plain": [
       "<Figure size 432x288 with 1 Axes>"
      ]
     },
     "metadata": {
      "needs_background": "light"
     },
     "output_type": "display_data"
    }
   ],
   "source": [
    "plt.clf()\n",
    "acc = history.history['acc']\n",
    "val_acc = history.history['val_acc']\n",
    "\n",
    "plt.plot(epochs, acc, 'bo', label='Training acc')\n",
    "plt.plot(epochs, val_acc, 'b', label='Validation acc')\n",
    "plt.xlabel('Epochs')\n",
    "plt.ylabel('Accuracy')\n",
    "plt.legend()\n",
    "\n",
    "plt.show()"
   ]
  },
  {
   "cell_type": "markdown",
   "metadata": {},
   "source": [
    "- 모델처음부터 다시 훈련"
   ]
  },
  {
   "cell_type": "code",
   "execution_count": 32,
   "metadata": {},
   "outputs": [
    {
     "name": "stdout",
     "output_type": "stream",
     "text": [
      "Train on 7982 samples, validate on 1000 samples\n",
      "Epoch 1/9\n",
      "7982/7982 [==============================] - 2s 265us/step - loss: 2.5412 - acc: 0.5222 - val_loss: 1.6817 - val_acc: 0.6540\n",
      "Epoch 2/9\n",
      "7982/7982 [==============================] - 1s 168us/step - loss: 1.3794 - acc: 0.7097 - val_loss: 1.2848 - val_acc: 0.7190\n",
      "Epoch 3/9\n",
      "7982/7982 [==============================] - 1s 170us/step - loss: 1.0225 - acc: 0.7779 - val_loss: 1.1325 - val_acc: 0.7460\n",
      "Epoch 4/9\n",
      "7982/7982 [==============================] - 1s 174us/step - loss: 0.8030 - acc: 0.8246 - val_loss: 1.0522 - val_acc: 0.7600\n",
      "Epoch 5/9\n",
      "7982/7982 [==============================] - 1s 178us/step - loss: 0.6421 - acc: 0.8619 - val_loss: 0.9735 - val_acc: 0.7970\n",
      "Epoch 6/9\n",
      "7982/7982 [==============================] - 1s 179us/step - loss: 0.5138 - acc: 0.8934 - val_loss: 0.9094 - val_acc: 0.8140\n",
      "Epoch 7/9\n",
      "7982/7982 [==============================] - 2s 193us/step - loss: 0.4134 - acc: 0.9147 - val_loss: 0.8939 - val_acc: 0.8210\n",
      "Epoch 8/9\n",
      "7982/7982 [==============================] - 1s 184us/step - loss: 0.3361 - acc: 0.9277 - val_loss: 0.8732 - val_acc: 0.8260\n",
      "Epoch 9/9\n",
      "7982/7982 [==============================] - 2s 212us/step - loss: 0.2792 - acc: 0.9366 - val_loss: 0.9389 - val_acc: 0.8000\n",
      "2246/2246 [==============================] - 0s 195us/step\n"
     ]
    }
   ],
   "source": [
    "model = models.Sequential()\n",
    "model.add(layers.Dense(64, activation='relu', input_shape=(10000,)))\n",
    "model.add(layers.Dense(64, activation='relu'))\n",
    "model.add(layers.Dense(46, activation='softmax'))\n",
    "model.compile(optimizer='rmsprop', loss='categorical_crossentropy', metrics=['accuracy'])\n",
    "model.fit(partial_x_train, partial_y_train, epochs=9, batch_size=512, validation_data=(x_val, y_val))\n",
    "results = model.evaluate(x_test, one_hot_test_labels)"
   ]
  },
  {
   "cell_type": "markdown",
   "metadata": {},
   "source": [
    "- 새로운 데이터 예측 확인 코드\n",
    "- 정보 병목이 있는 모델 정의"
   ]
  },
  {
   "cell_type": "code",
   "execution_count": null,
   "metadata": {},
   "outputs": [],
   "source": [
    "predictions = model.predict(x_test)"
   ]
  },
  {
   "cell_type": "code",
   "execution_count": null,
   "metadata": {},
   "outputs": [],
   "source": [
    "model = models.Sequential()\n",
    "model.add(layers.Dense(64, activation='relu', input_shape=(10000,)))\n",
    "model.add(layers.Dense(64, activation='relu'))\n",
    "model.add(layers.Dense(46, activation='softmax'))\n",
    "model.compile(optimizer='rmsprop', loss='categorical_crossentropy', metrics=['accuracy'])\n",
    "model.fit(partial_x_train, partial_y_train, epochs=20, batch_size=128, validation_data=(x_val, y_val))"
   ]
  }
 ],
 "metadata": {
  "kernelspec": {
   "display_name": "Python 3",
   "language": "python",
   "name": "python3"
  },
  "language_info": {
   "codemirror_mode": {
    "name": "ipython",
    "version": 3
   },
   "file_extension": ".py",
   "mimetype": "text/x-python",
   "name": "python",
   "nbconvert_exporter": "python",
   "pygments_lexer": "ipython3",
   "version": "3.6.8"
  }
 },
 "nbformat": 4,
 "nbformat_minor": 2
}
