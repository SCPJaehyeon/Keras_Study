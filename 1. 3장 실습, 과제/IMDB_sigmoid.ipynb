{
 "cells": [
  {
   "cell_type": "markdown",
   "metadata": {},
   "source": [
    "### 영화 리뷰 분류 : 이진분류예제\n",
    "--------------------\n",
    "IMDB 데이터셋: 케라스에 포함되어있는 데이터셋으로 인터넷 영화의 데이터베이스로부터 가져온 양극단의 리뷰 5만개로 이루어진 데이터셋\n",
    "\n",
    "--------------------\n",
    "\n",
    "IMDB 데이터 특징\n",
    "- 1) 전처리되어 있어 각 리뷰가 숫자 시퀀스로 변환되어 있음\n",
    "- 2) 각 숫자는 사전에 있는 고유한 단어를 나타냄\n",
    "- 3) 훈련 데이터 2만 5천개와 테스트 데이터 2만 5천개로 나뉨\n",
    "- 4) 각각 50%는 긍정, 50%는 부정으로 구성"
   ]
  },
  {
   "cell_type": "markdown",
   "metadata": {},
   "source": [
    "- 케라스 데이터셋에서 imdb 데이터셋 임포트\n",
    "- 리뷰의 목록으로 긍정(1)과 부정(0)으로 나타내는 리스트, 훈련데이터 2만5천개중 1만개를 사용\n",
    "- 실제 데이터는 단어들로 되어있고 정수 변환과 인코딩과정을 통해 정수로나타난다."
   ]
  },
  {
   "cell_type": "code",
   "execution_count": 21,
   "metadata": {},
   "outputs": [],
   "source": [
    "from keras.datasets import imdb\n",
    "\n",
    "\n",
    "(train_data, train_labels), (test_data, test_labels) = imdb.load_data(num_words=10000)\n"
   ]
  },
  {
   "cell_type": "markdown",
   "metadata": {},
   "source": [
    "- 훈련 데이터를 0으로 채워진 행렬을 (9999,10000) 크기로 만드는 함수\n",
    "- results[i]에서 특정 인덱스의 위치를 1로 만든다.\n",
    "- result 행렬은 2차원 배열이다.\n",
    "- 훈련 데이터, 테스트 데이터, 레이블을 벡터로 변환한다."
   ]
  },
  {
   "cell_type": "code",
   "execution_count": 22,
   "metadata": {},
   "outputs": [],
   "source": [
    "import numpy as np\n",
    "def vectorize_sequences(sequences, dimension=10000):\n",
    "    results = np.zeros((len(sequences), dimension))\n",
    "    for i, sequence in enumerate(sequences):\n",
    "        results[i, sequence] = 1.\n",
    "    return results\n",
    "\n",
    "x_train=vectorize_sequences(train_data)\n",
    "x_test = vectorize_sequences(test_data)\n",
    "y_train = np.asarray(train_labels).astype('float32')\n",
    "y_test = np.asarray(test_labels).astype('float32')"
   ]
  },
  {
   "cell_type": "markdown",
   "metadata": {},
   "source": [
    "- 3개의 층으로 된 신경망을 구현한다\n",
    "- 16개의 은닉 유닛이 있다\n",
    "- sigmoid는 2진분류목적으로 사용"
   ]
  },
  {
   "cell_type": "code",
   "execution_count": 23,
   "metadata": {},
   "outputs": [],
   "source": [
    "from keras import models\n",
    "from keras import layers\n",
    "\n",
    "model = models.Sequential()\n",
    "model.add(layers.Dense(16, activation='relu', input_shape=(10000,)))\n",
    "model.add(layers.Dense(16, activation='relu'))\n",
    "model.add(layers.Dense(1, activation='sigmoid'))"
   ]
  },
  {
   "cell_type": "markdown",
   "metadata": {},
   "source": [
    "- rmsprop 옵티마이저, binary_crossentropy 손실 함수로 모델 설정"
   ]
  },
  {
   "cell_type": "code",
   "execution_count": 24,
   "metadata": {},
   "outputs": [],
   "source": [
    "model.compile(optimizer='rmsprop', loss='binary_crossentropy', metrics=['accuracy'])"
   ]
  },
  {
   "cell_type": "markdown",
   "metadata": {},
   "source": [
    "- loss와 metrics 매개변수에 함수 객체 전달"
   ]
  },
  {
   "cell_type": "code",
   "execution_count": 25,
   "metadata": {},
   "outputs": [],
   "source": [
    "from keras import optimizers\n",
    "from keras import losses\n",
    "from keras import metrics\n",
    "\n",
    "model.compile(optimizer=optimizers.RMSprop(lr=0.001), loss=losses.binary_crossentropy, metrics=[metrics.binary_accuracy])"
   ]
  },
  {
   "cell_type": "markdown",
   "metadata": {},
   "source": [
    "- 원본 훈련 데이터에서 10000개 샘플로 검증 세트 생성"
   ]
  },
  {
   "cell_type": "code",
   "execution_count": 26,
   "metadata": {},
   "outputs": [],
   "source": [
    "x_val = x_train[:10000]\n",
    "partial_x_train = x_train[10000:]\n",
    "y_val = y_train[:10000]\n",
    "partial_y_train = y_train[10000:]"
   ]
  },
  {
   "cell_type": "markdown",
   "metadata": {},
   "source": [
    "- 모델을 512개의 샘플씩 미니 배치 만들고 20번의 에포크 동안 훈련"
   ]
  },
  {
   "cell_type": "code",
   "execution_count": 27,
   "metadata": {},
   "outputs": [
    {
     "name": "stdout",
     "output_type": "stream",
     "text": [
      "Train on 15000 samples, validate on 10000 samples\n",
      "Epoch 1/20\n",
      "15000/15000 [==============================] - 4s 255us/step - loss: 0.5084 - acc: 0.7813 - val_loss: 0.3797 - val_acc: 0.8684\n",
      "Epoch 2/20\n",
      "15000/15000 [==============================] - 3s 202us/step - loss: 0.3004 - acc: 0.9047 - val_loss: 0.3004 - val_acc: 0.8897\n",
      "Epoch 3/20\n",
      "15000/15000 [==============================] - 3s 200us/step - loss: 0.2179 - acc: 0.9284 - val_loss: 0.3086 - val_acc: 0.8711\n",
      "Epoch 4/20\n",
      "15000/15000 [==============================] - 3s 208us/step - loss: 0.1750 - acc: 0.9437 - val_loss: 0.2840 - val_acc: 0.8831\n",
      "Epoch 5/20\n",
      "15000/15000 [==============================] - 3s 205us/step - loss: 0.1427 - acc: 0.9543 - val_loss: 0.2841 - val_acc: 0.8872\n",
      "Epoch 6/20\n",
      "15000/15000 [==============================] - 3s 224us/step - loss: 0.1150 - acc: 0.9650 - val_loss: 0.3165 - val_acc: 0.8772\n",
      "Epoch 7/20\n",
      "15000/15000 [==============================] - 3s 225us/step - loss: 0.0980 - acc: 0.9707 - val_loss: 0.3127 - val_acc: 0.8846\n",
      "Epoch 8/20\n",
      "15000/15000 [==============================] - 3s 220us/step - loss: 0.0807 - acc: 0.9763 - val_loss: 0.3859 - val_acc: 0.8650\n",
      "Epoch 9/20\n",
      "15000/15000 [==============================] - 4s 237us/step - loss: 0.0661 - acc: 0.9822 - val_loss: 0.3635 - val_acc: 0.8782\n",
      "Epoch 10/20\n",
      "15000/15000 [==============================] - 3s 221us/step - loss: 0.0562 - acc: 0.9852 - val_loss: 0.3841 - val_acc: 0.8793\n",
      "Epoch 11/20\n",
      "15000/15000 [==============================] - 3s 217us/step - loss: 0.0438 - acc: 0.9896 - val_loss: 0.4151 - val_acc: 0.8778\n",
      "Epoch 12/20\n",
      "15000/15000 [==============================] - 3s 221us/step - loss: 0.0381 - acc: 0.9919 - val_loss: 0.4533 - val_acc: 0.8688\n",
      "Epoch 13/20\n",
      "15000/15000 [==============================] - 3s 215us/step - loss: 0.0300 - acc: 0.9928 - val_loss: 0.4699 - val_acc: 0.8727\n",
      "Epoch 14/20\n",
      "15000/15000 [==============================] - 3s 219us/step - loss: 0.0247 - acc: 0.9945 - val_loss: 0.5024 - val_acc: 0.8724\n",
      "Epoch 15/20\n",
      "15000/15000 [==============================] - 3s 220us/step - loss: 0.0178 - acc: 0.9977 - val_loss: 0.5320 - val_acc: 0.8704\n",
      "Epoch 16/20\n",
      "15000/15000 [==============================] - 3s 218us/step - loss: 0.0180 - acc: 0.9965 - val_loss: 0.5664 - val_acc: 0.8694\n",
      "Epoch 17/20\n",
      "15000/15000 [==============================] - 3s 225us/step - loss: 0.0103 - acc: 0.9993 - val_loss: 0.6162 - val_acc: 0.8654\n",
      "Epoch 18/20\n",
      "15000/15000 [==============================] - 3s 223us/step - loss: 0.0131 - acc: 0.9971 - val_loss: 0.6375 - val_acc: 0.8673\n",
      "Epoch 19/20\n",
      "15000/15000 [==============================] - 3s 221us/step - loss: 0.0057 - acc: 0.9997 - val_loss: 0.7263 - val_acc: 0.8563\n",
      "Epoch 20/20\n",
      "15000/15000 [==============================] - 3s 222us/step - loss: 0.0094 - acc: 0.9983 - val_loss: 0.6964 - val_acc: 0.8664\n"
     ]
    }
   ],
   "source": [
    "model.compile(optimizer='rmsprop',loss='binary_crossentropy',metrics=['acc'])\n",
    "history = model.fit(partial_x_train, partial_y_train, epochs=20, batch_size=512, validation_data=(x_val, y_val))"
   ]
  },
  {
   "cell_type": "markdown",
   "metadata": {},
   "source": [
    "- 파란점과 파란 실선을 이용해 훈련과 검증 손실 그리기"
   ]
  },
  {
   "cell_type": "code",
   "execution_count": 28,
   "metadata": {},
   "outputs": [
    {
     "data": {
      "image/png": "[encoded data removed]",
      "text/plain": [
       "<Figure size 432x288 with 1 Axes>"
      ]
     },
     "metadata": {
      "needs_background": "light"
     },
     "output_type": "display_data"
    }
   ],
   "source": [
    "import matplotlib.pyplot as plt\n",
    "history_dict = history.history\n",
    "loss = history_dict['loss']\n",
    "val_loss = history_dict['val_loss']\n",
    "epochs = range(1, len(loss) + 1)\n",
    "plt.plot(epochs, loss, 'bo', label='Training loss')\n",
    "plt.plot(epochs, val_loss, 'b', label='Validation loss')\n",
    "plt.title('Training and Validation loss')\n",
    "plt.xlabel('Epochs')\n",
    "plt.ylabel('Loss')\n",
    "plt.legend()\n",
    "plt.show()"
   ]
  },
  {
   "cell_type": "markdown",
   "metadata": {},
   "source": [
    "- 파란점과 파란 실선을 이용해 훈련과 검증 정확도 그리기"
   ]
  },
  {
   "cell_type": "code",
   "execution_count": 29,
   "metadata": {},
   "outputs": [
    {
     "data": {
      "image/png": "[encoded data removed]",
      "text/plain": [
       "<Figure size 432x288 with 1 Axes>"
      ]
     },
     "metadata": {
      "needs_background": "light"
     },
     "output_type": "display_data"
    }
   ],
   "source": [
    "plt.clf()\n",
    "acc = history_dict['acc']\n",
    "val_acc = history_dict['val_acc']\n",
    "\n",
    "plt.plot(epochs, loss, 'bo', label='Training acc')\n",
    "plt.plot(epochs, val_loss, 'b', label='Validation acc')\n",
    "plt.title('Training and Validation loss')\n",
    "plt.xlabel('Epochs')\n",
    "plt.ylabel('Accuracy')\n",
    "plt.legend()\n",
    "plt.show()"
   ]
  },
  {
   "cell_type": "markdown",
   "metadata": {},
   "source": [
    "- 모델을 다시 훈련시킨다"
   ]
  },
  {
   "cell_type": "code",
   "execution_count": 18,
   "metadata": {},
   "outputs": [
    {
     "name": "stdout",
     "output_type": "stream",
     "text": [
      "Epoch 1/4\n",
      "25000/25000 [==============================] - 4s 147us/step - loss: 0.4632 - acc: 0.8181\n",
      "Epoch 2/4\n",
      "25000/25000 [==============================] - 3s 133us/step - loss: 0.2659 - acc: 0.9062\n",
      "Epoch 3/4\n",
      "25000/25000 [==============================] - 3s 133us/step - loss: 0.2045 - acc: 0.9274\n",
      "Epoch 4/4\n",
      "25000/25000 [==============================] - 3s 134us/step - loss: 0.1704 - acc: 0.9398\n",
      "25000/25000 [==============================] - 5s 192us/step\n"
     ]
    }
   ],
   "source": [
    "model = models.Sequential()\n",
    "model.add(layers.Dense(16, activation='relu', input_shape=(10000,)))\n",
    "model.add(layers.Dense(16, activation='relu'))\n",
    "model.add(layers.Dense(1, activation='sigmoid'))\n",
    "\n",
    "model.compile(optimizer='rmsprop', loss='binary_crossentropy', metrics=['accuracy'])\n",
    "\n",
    "model.fit(x_train, y_train, epochs=4, batch_size=512)\n",
    "results = model.evaluate(x_test, y_test)"
   ]
  },
  {
   "cell_type": "code",
   "execution_count": null,
   "metadata": {},
   "outputs": [],
   "source": []
  }
 ],
 "metadata": {
  "kernelspec": {
   "display_name": "Python 3",
   "language": "python",
   "name": "python3"
  },
  "language_info": {
   "codemirror_mode": {
    "name": "ipython",
    "version": 3
   },
   "file_extension": ".py",
   "mimetype": "text/x-python",
   "name": "python",
   "nbconvert_exporter": "python",
   "pygments_lexer": "ipython3",
   "version": "3.6.8"
  }
 },
 "nbformat": 4,
 "nbformat_minor": 2
}
